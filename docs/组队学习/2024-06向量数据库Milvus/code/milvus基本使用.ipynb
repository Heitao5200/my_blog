{
 "cells": [
  {
   "cell_type": "markdown",
   "metadata": {},
   "source": [
    "### 导入包"
   ]
  },
  {
   "cell_type": "code",
   "execution_count": null,
   "metadata": {
    "ExecuteTime": {
     "end_time": "2024-05-04T04:55:22.758133Z",
     "start_time": "2024-05-04T04:55:21.361346Z"
    }
   },
   "outputs": [],
   "source": [
    "from pymilvus import utility\n",
    "from pymilvus import connections\n",
    "from pymilvus import FieldSchema, CollectionSchema, DataType, Collection\n",
    "import csv\n",
    "import time\n",
    "from tqdm import tqdm \n",
    "from sentence_transformers import SentenceTransformer\n",
    " "
   ]
  },
  {
   "cell_type": "markdown",
   "metadata": {},
   "source": [
    "### 全局参数\n",
    "\n",
    "在这里，我们可以找到需要修改以运行您自己的账户的主要参数。每个参数旁边都有一个描述。"
   ]
  },
  {
   "cell_type": "code",
   "execution_count": null,
   "metadata": {},
   "outputs": [],
   "source": [
    "# Milvus Setup Arguments\n",
    "COLLECTION_NAME = 'movies_db'  # Collection name\n",
    "DIMENSION = 786  # Embeddings size\n",
    "COUNT = 1000  # Number of vectors to insert\n",
    "MILVUS_HOST = 'localhost'\n",
    "MILVUS_PORT = '19530'\n",
    "# Inference Arguments\n",
    "BATCH_SIZE = 128\n",
    "MAX_LENGTH = 4096\n",
    " \n",
    "# Search Arguments\n",
    "\n",
    " "
   ]
  },
  {
   "cell_type": "markdown",
   "metadata": {},
   "source": [
    "# 读取数据"
   ]
  },
  {
   "cell_type": "code",
   "execution_count": null,
   "metadata": {},
   "outputs": [],
   "source": [
    "import pandas as pd \n",
    "movie_data = pd.read_csv('wiki_movie_plots_deduped.csv')"
   ]
  },
  {
   "cell_type": "markdown",
   "metadata": {},
   "source": [
    "### 连接到 Milvus 数据库"
   ]
  },
  {
   "cell_type": "code",
   "execution_count": null,
   "metadata": {},
   "outputs": [],
   "source": [
    "connections.connect(host=MILVUS_HOST, port=MILVUS_PORT)"
   ]
  },
  {
   "cell_type": "markdown",
   "metadata": {},
   "source": [
    "### 删除具有相同名称的以前集合"
   ]
  },
  {
   "cell_type": "code",
   "execution_count": null,
   "metadata": {},
   "outputs": [],
   "source": [
    "def delete_collection(COLLECTION_NAME):\n",
    "    if utility.has_collection(COLLECTION_NAME):\n",
    "        utility.drop_collection(COLLECTION_NAME)\n",
    "delete_collection(COLLECTION_NAME)   "
   ]
  },
  {
   "cell_type": "markdown",
   "metadata": {},
   "source": [
    "### 创建包含 ID、标题和情节文本嵌入的集合"
   ]
  },
  {
   "cell_type": "code",
   "execution_count": null,
   "metadata": {},
   "outputs": [],
   "source": [
    "def create_collection(collection_name):\n",
    " \n",
    "    # 主键\n",
    "    field_id = FieldSchema(name=\"id\", dtype=DataType.INT64, is_primary=True, auto_id=True)\n",
    "    # 向量检索的field\n",
    "    field_title = FieldSchema(name='title', dtype=DataType.VARCHAR,  description ='Title', max_length=MAX_LENGTH )\n",
    "    field_origin = FieldSchema(name='Origin', dtype=DataType.VARCHAR, description ='Origin/Ethnicity' , max_length=MAX_LENGTH)\n",
    "    field_year = FieldSchema(name='Year', dtype=DataType.INT64,description ='Release_Year' )\n",
    "    field_wiki = FieldSchema(name='Wiki', dtype=DataType.VARCHAR,description ='Wiki_Page' , max_length=MAX_LENGTH)\n",
    "    field_plot = FieldSchema(name='Plot', dtype=DataType.VARCHAR,description ='Plot' , max_length=MAX_LENGTH)\n",
    "    field_title_embedding = FieldSchema(name='title_embedding', dtype=DataType.FLOAT_VECTOR, dim=DIMENSION,description ='Title' )\n",
    "    # field_plot_embedding = FieldSchema(name='plot_embedding', dtype=DataType.FLOAT_VECTOR,dim=64,description ='Plot' )\n",
    "    schema = CollectionSchema(fields=[field_id, \n",
    "                                      field_title, \n",
    "                                      field_origin,\n",
    "                                      field_year,\n",
    "                                      field_wiki,\n",
    "                                      field_plot,\n",
    "                                      field_title_embedding,\n",
    "                                      # field_plot_embedding\n",
    "                                     ], description=\"wiki_movie_plots_deduped_collection\")\n",
    "\n",
    "    collection = Collection(name=collection_name, schema=schema)\n",
    "    # print(pymilvus_orm.utility.get_connection().has_collection(collection_name))\n",
    "    # print(pymilvus_orm.utility.get_connection().list_collections())\n",
    "\n",
    "    return collection\n",
    "collection_name = \"movies_db\"\n",
    "collection = create_collection(collection_name)"
   ]
  },
  {
   "cell_type": "markdown",
   "metadata": {},
   "source": [
    "### 为集合创建IVF_FLAT索引"
   ]
  },
  {
   "cell_type": "code",
   "execution_count": null,
   "metadata": {},
   "outputs": [],
   "source": [
    "def create_index_collection(collection,index_params):\n",
    "\n",
    "    index_params = {\n",
    "        'metric_type':'L2',\n",
    "        'index_type':\"IVF_FLAT\",\n",
    "        'params':{'nlist': 1536}\n",
    "    }\n",
    "    collection.create_index(field_name=\"title_embedding\", index_params=index_params)\n",
    "    collection.load()\n",
    "create_index_collection(collection,index_params)"
   ]
  },
  {
   "cell_type": "markdown",
   "metadata": {},
   "source": [
    "### 读取模型"
   ]
  },
  {
   "cell_type": "code",
   "execution_count": null,
   "metadata": {},
   "outputs": [],
   "source": [
    "\n",
    "# from modelscope import snapshot_download\n",
    "# model_dir = snapshot_download('bensonpeng/all-MiniLM-L6-v2',cache_dir='./models')\n",
    "\n",
    "transformer = SentenceTransformer('/Users/heitao/models/AI-ModelScope/bge-base-zh-v1-5')"
   ]
  },
  {
   "cell_type": "markdown",
   "metadata": {},
   "source": [
    "### 创建分区"
   ]
  },
  {
   "cell_type": "code",
   "execution_count": null,
   "metadata": {},
   "outputs": [],
   "source": [
    "def create_partition(collection,partition_name):\n",
    "    \"\"\"\n",
    "    为collection创建分区\n",
    "    :param collection:\n",
    "    :return:\n",
    "    \"\"\"\n",
    "    partition = collection.create_partition(partition_name)\n",
    "    print(collection.partitions)\n",
    "    print(collection.has_partition(partition_name))\n",
    "    \n",
    "create_partition(collection,partition_name = 'partition_test')    "
   ]
  },
  {
   "cell_type": "markdown",
   "metadata": {},
   "source": [
    "## 插入数据"
   ]
  },
  {
   "cell_type": "code",
   "execution_count": null,
   "metadata": {},
   "outputs": [],
   "source": [
    "def insert_data_collection(df ):\n",
    "    \n",
    "    field_title = df['Title'].apply(lambda x:x[:2048]).to_list()\n",
    "    field_origin = df['Origin/Ethnicity'].apply(lambda x:x[:2048]).to_list()\n",
    "    field_year = df['Release Year'].to_list()\n",
    "    field_wiki = df['Wiki Page'].apply(lambda x:x[:2048]).to_list()\n",
    "    field_plot = df['Plot'].apply(lambda x:x[:2048]).to_list()\n",
    "    # embeds = transformer.encode(df_tmp['Title'])\n",
    "    embeddings = []\n",
    "    for x in tqdm(df['Title'].to_list()):\n",
    "        embeddings.append(transformer.encode(x))\n",
    "\n",
    "    ins = [field_title,field_origin,field_year,field_wiki,field_plot,embeddings]\n",
    "    collection.insert(ins)\n",
    "    collection.flush()\n",
    "insert_data_collection(movie_data[:1000])"
   ]
  },
  {
   "cell_type": "markdown",
   "metadata": {},
   "source": [
    "### 将问题使用embedding转换成向量"
   ]
  },
  {
   "cell_type": "code",
   "execution_count": null,
   "metadata": {},
   "outputs": [],
   "source": [
    "def embedding_query(search_terms):\n",
    "    embeds = transformer.encode(search_terms) \n",
    "    return [x for x in embeds]"
   ]
  },
  {
   "cell_type": "code",
   "execution_count": null,
   "metadata": {},
   "outputs": [],
   "source": [
    "# Search for titles that closest match these phrases.\n",
    "search_terms = ['A movie about cars', 'A movie about monsters']\n",
    "search_data = embedding_query(search_terms)"
   ]
  },
  {
   "cell_type": "markdown",
   "metadata": {},
   "source": [
    "### 查询出结果"
   ]
  },
  {
   "cell_type": "code",
   "execution_count": null,
   "metadata": {},
   "outputs": [],
   "source": [
    "TOP_K = 3\n",
    "res = collection.search(\n",
    "    data=search_data,  # Embeded search value\n",
    "    anns_field=\"title_embedding\",  # Search across embeddings\n",
    "    param={\n",
    "            # \"nprobe\": 128,\n",
    "            # \"metric_type\": \"L2\",\n",
    "            # \"offset\": 10,\n",
    "            # \"limit\": 10,\n",
    "                    },\n",
    "    limit = TOP_K,  # Limit to top_k results per search\n",
    "    output_fields=['title']  # Include title field in result\n",
    ")"
   ]
  },
  {
   "cell_type": "code",
   "execution_count": null,
   "metadata": {},
   "outputs": [],
   "source": [
    " \n",
    "for hits_i, hits in enumerate(res):\n",
    "    print('Title:', search_terms[hits_i])\n",
    "    # print('Search Time:', end-start)\n",
    "    print('Results:')\n",
    "    for hit in hits:\n",
    "        print( hit.entity.get('title'), '----', hit.distance)\n",
    "    print()"
   ]
  },
  {
   "cell_type": "code",
   "execution_count": null,
   "metadata": {},
   "outputs": [],
   "source": []
  }
 ],
 "metadata": {
  "kernelspec": {
   "display_name": "Python 3 (ipykernel)",
   "language": "python",
   "name": "python3"
  },
  "language_info": {
   "codemirror_mode": {
    "name": "ipython",
    "version": 3
   },
   "file_extension": ".py",
   "mimetype": "text/x-python",
   "name": "python",
   "nbconvert_exporter": "python",
   "pygments_lexer": "ipython3",
   "version": "3.9.7"
  },
  "toc-autonumbering": false,
  "toc-showtags": false
 },
 "nbformat": 4,
 "nbformat_minor": 4
}
