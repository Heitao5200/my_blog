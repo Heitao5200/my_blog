{
 "cells": [
  {
   "cell_type": "markdown",
   "id": "4127ee7f50fb763f",
   "metadata": {},
   "source": [
    "## 导入包"
   ]
  },
  {
   "cell_type": "code",
   "execution_count": null,
   "id": "ca3b446c34afc856",
   "metadata": {
    "ExecuteTime": {
     "end_time": "2024-05-04T04:48:25.898094Z",
     "start_time": "2024-05-04T04:48:24.545095Z"
    },
    "collapsed": false,
    "jupyter": {
     "outputs_hidden": false
    }
   },
   "outputs": [],
   "source": [
    "import random\n",
    "import numpy as np\n",
    "\n",
    "from milvus import Milvus, IndexType, MetricType, Status"
   ]
  },
  {
   "cell_type": "code",
   "execution_count": null,
   "id": "b2ac89328759f9b7",
   "metadata": {
    "ExecuteTime": {
     "end_time": "2024-04-13T12:32:19.609361Z",
     "start_time": "2024-04-13T12:32:18.507801Z"
    },
    "collapsed": false,
    "jupyter": {
     "outputs_hidden": false
    }
   },
   "outputs": [],
   "source": [
    "from milvus import DataType\n",
    "import numpy as np\n",
    "from pymilvus_orm import Collection, CollectionSchema, FieldSchema, DataType"
   ]
  },
  {
   "cell_type": "markdown",
   "id": "1c2ff8f84fc755b5",
   "metadata": {},
   "source": [
    "## 连接milvus服务"
   ]
  },
  {
   "cell_type": "code",
   "execution_count": null,
   "id": "initial_id",
   "metadata": {
    "ExecuteTime": {
     "end_time": "2024-04-13T12:32:34.270767Z",
     "start_time": "2024-04-13T12:32:34.253441Z"
    },
    "collapsed": true,
    "jupyter": {
     "outputs_hidden": true
    }
   },
   "outputs": [],
   "source": [
    "\n",
    "myclient = pymilvus.MilvusClient(\n",
    "    uri=\"http://localhost:19530\",\n",
    "    host=\"127.0.0.1\",\n",
    "    user='root',\n",
    "    db_name= '',\n",
    "    token = '',\n",
    "    password='89io*(IO'\n",
    ")\n"
   ]
  },
  {
   "cell_type": "markdown",
   "id": "71420c53ef3cffb0",
   "metadata": {},
   "source": [
    "## 创建collection\n",
    "collection必须要有一个field是主键，一个field是存储向量，另外还可以创建其他类型的field"
   ]
  },
  {
   "cell_type": "code",
   "execution_count": 3,
   "id": "8668b629805932f9",
   "metadata": {
    "ExecuteTime": {
     "end_time": "2024-04-13T09:55:15.028743Z",
     "start_time": "2024-04-13T09:55:15.022466Z"
    },
    "collapsed": false,
    "jupyter": {
     "outputs_hidden": false
    }
   },
   "outputs": [],
   "source": [
    " \n",
    "field_name = \"example_field\"\n",
    "collection_name = \"example_collection\"\n",
    "\n",
    "def create_collection(field_name,collection_name):\n",
    " \n",
    "    # 主键\n",
    "    field_id = FieldSchema(name=\"field_id\", dtype=DataType.INT64, is_primary=True, auto_id=True)\n",
    "    # 向量检索的field\n",
    "    field = FieldSchema(name=field_name, dtype=DataType.FLOAT_VECTOR, dim=8)\n",
    "    cat_id = FieldSchema(name=\"cat_id\", dtype=DataType.INT64)\n",
    "    schema = CollectionSchema(fields=[field_id, field, cat_id], description=\"example collection\")\n",
    "\n",
    "    collection = Collection(name=collection_name, schema=schema)\n",
    "    # print(pymilvus_orm.utility.get_connection().has_collection(collection_name))\n",
    "    # print(pymilvus_orm.utility.get_connection().list_collections())\n",
    "\n",
    "    return collection"
   ]
  },
  {
   "cell_type": "markdown",
   "id": "a44c20dc80f07012",
   "metadata": {},
   "source": [
    "collection还可以将数据存储在不同的分区。默认是有一个\"Default partition\"的分区，不指定分区的话，都会存储在default分区。"
   ]
  },
  {
   "cell_type": "code",
   "execution_count": 4,
   "id": "2ac02b5c4469ae6d",
   "metadata": {
    "ExecuteTime": {
     "end_time": "2024-04-13T10:25:50.943832Z",
     "start_time": "2024-04-13T10:25:50.939869Z"
    },
    "collapsed": false,
    "jupyter": {
     "outputs_hidden": false
    }
   },
   "outputs": [],
   "source": [
    "def create_partition(collection ):\n",
    "    \"\"\"\n",
    "    为collection创建分区\n",
    "    :param collection:\n",
    "    :return:\n",
    "    \"\"\"\n",
    "    partition_name = \"example_partition\"\n",
    "    partition = collection.create_partition(partition_name)\n",
    "\n",
    "    print(collection.partitions)\n",
    "\n",
    "    print(collection.has_partition(partition_name))\n",
    " "
   ]
  },
  {
   "cell_type": "markdown",
   "id": "6a1fa5a4daf5cda1",
   "metadata": {},
   "source": [
    "## 插入数据\n",
    "- 插入数据可以根据实际需要，是否插入到特定的分区。当前版本数据格式只能是list，numpy的ndarray也不行；\n",
    "- 如果主键设置自增auto_id=True，则无需添加主键的值了；\n",
    "- 数据插入之后，它是存储在内存中，还需要将其传输到磁盘中，下次可以继续使用。\n",
    " "
   ]
  },
  {
   "cell_type": "code",
   "execution_count": null,
   "id": "83a9ba0816a762f1",
   "metadata": {
    "collapsed": false,
    "jupyter": {
     "outputs_hidden": false
    }
   },
   "outputs": [],
   "source": [
    "def insert(collection: Collection, partition_name=None):\n",
    "    \"\"\"\n",
    "    插入数据\n",
    "    :param partition_name: 指定插入的分区\n",
    "    :param collection:\n",
    "    :return:\n",
    "    \"\"\"\n",
    "    # 由于主键field_id设置自增，所以无需插入\n",
    "    mr = collection.insert([\n",
    "        # 只能是list\n",
    "        np.random.random([10000, 8]).tolist(),  # 向量\n",
    "        np.random.randint(0, 10, [10000]).tolist()  # cat_id\n",
    "    ], partition_name=partition_name)\n",
    "    print(mr.primary_keys)\n",
    "\n",
    "    # 插入的数据存储在内存，需要传输到磁盘\n",
    "    pymilvus_orm.utility.get_connection().flush([collection.name])\n",
    "\n",
    " "
   ]
  },
  {
   "cell_type": "markdown",
   "id": "71708be3158d456d",
   "metadata": {},
   "source": [
    "## 创建索引\n",
    "- 为向量对应的field创建索引，目的就是实现高效的向量邻近搜索。\n",
    "- 目前支持的索引类型包括：\n",
    "- ![索引类型](https://pic1.zhimg.com/v2-e0ab34436d6f9ded6595a41595556818_b.jpg)"
   ]
  },
  {
   "cell_type": "code",
   "execution_count": null,
   "id": "8c488d2589073b71",
   "metadata": {
    "ExecuteTime": {
     "end_time": "2024-04-13T10:30:27.811840Z",
     "start_time": "2024-04-13T10:30:27.503707Z"
    },
    "collapsed": false,
    "jupyter": {
     "outputs_hidden": false
    }
   },
   "outputs": [],
   "source": [
    "def create_index(collection: Collection):\n",
    "    \"\"\"\n",
    "    为向量检索的field 创建索引\n",
    "    :param collection:\n",
    "    :return:\n",
    "    \"\"\"\n",
    "    index_param = {\n",
    "        \"metric_type\": \"L2\",\n",
    "        \"index_type\": \"IVF_FLAT\",\n",
    "        \"params\": {\"nlist\": 1024}\n",
    "    }\n",
    "    collection.create_index(field_name=field_name, index_params=index_param)\n",
    "    print(collection.index().params)\n",
    " "
   ]
  },
  {
   "cell_type": "markdown",
   "id": "2a6208fd701dc5b2",
   "metadata": {},
   "source": []
  },
  {
   "cell_type": "markdown",
   "id": "a98315814e5d7853",
   "metadata": {},
   "source": [
    "## 查询\n",
    "- 除了一般的向量搜索，milvus还支持带表达式的标量过滤功能。\n",
    "- 例如下方代码中，就增加expr=\"cat_id==2\"条件：即只在cat_id为2的向量中进行检索（上面创建了名称为cat_id的field）。\n",
    "- 但是目前还不支持字符串的过滤功能，官方后续会增加；支持关系运算符（如==, >）、逻辑运算符(AND &&, OR ||)和IN运算符。\n"
   ]
  },
  {
   "cell_type": "code",
   "execution_count": null,
   "id": "2b0697634007f132",
   "metadata": {
    "collapsed": false,
    "jupyter": {
     "outputs_hidden": false
    }
   },
   "outputs": [],
   "source": [
    " \n",
    "def search(collection: Collection, partition_name=None):\n",
    "    \"\"\"\n",
    "    向量检索\n",
    "    :param collection:\n",
    "    :param partition_name: 检索指定分区的向量\n",
    "    :return:\n",
    "    \"\"\"\n",
    "    # 将collection加载到内存\n",
    "    collection.load()\n",
    "    search_params = {\"metric_type\": \"L2\", \"params\": {\"nprobe\": 10}}\n",
    "    # 向量搜索\n",
    "    result = collection.search(data=np.random.random([5, 8]).tolist(),\n",
    "                               anns_field=field_name, param=search_params, limit=10,\n",
    "                               partition_names=[partition_name] if partition_name else None)\n",
    "    print(result[0].ids)\n",
    "    print(result[0].distances)\n",
    "\n",
    "    # 表达式：只检索cat_id为2的向量\n",
    "    result = collection.search(data=np.random.random([5, 8]).tolist(),\n",
    "                               anns_field=field_name, param=search_params, limit=10,\n",
    "                               expr=\"cat_id==2\")\n",
    "    print(result[0].ids)\n",
    "    print(result[0].distances)"
   ]
  },
  {
   "cell_type": "markdown",
   "id": "6b388e9a2065e488",
   "metadata": {},
   "source": [
    "## 删除数据\n",
    "- 目前支持以下三种删除操作"
   ]
  },
  {
   "cell_type": "code",
   "execution_count": null,
   "id": "8319038b9758bb1b",
   "metadata": {
    "collapsed": false,
    "jupyter": {
     "outputs_hidden": false
    }
   },
   "outputs": [],
   "source": [
    "def drop(collection: Collection):\n",
    "    # 删除collection\n",
    "    collection.drop()\n",
    "    # 删除索引\n",
    "    collection.drop_index()\n",
    "    # 删除分区\n",
    "    collection.drop_partition(\"partition_name\")\n",
    " "
   ]
  },
  {
   "cell_type": "markdown",
   "id": "b2a02aee7aca4df6",
   "metadata": {},
   "source": [
    "## 释放"
   ]
  },
  {
   "cell_type": "code",
   "execution_count": null,
   "id": "5d4654fedb6f3dec",
   "metadata": {
    "collapsed": false,
    "jupyter": {
     "outputs_hidden": false
    }
   },
   "outputs": [],
   "source": [
    "def release(collection: Collection = None):\n",
    "    # 从内存中释放collection\n",
    "    if collection:\n",
    "        collection.release()\n",
    "\n",
    "    # 断开与服务器的连接，释放资源\n",
    "    connections.disconnect(\"default\")\n",
    " "
   ]
  },
  {
   "cell_type": "code",
   "execution_count": null,
   "id": "8518a54e614ee547",
   "metadata": {
    "collapsed": false,
    "jupyter": {
     "outputs_hidden": false
    }
   },
   "outputs": [],
   "source": []
  },
  {
   "cell_type": "code",
   "execution_count": null,
   "id": "16fa5b508606f2c3",
   "metadata": {
    "collapsed": false,
    "jupyter": {
     "outputs_hidden": false
    }
   },
   "outputs": [],
   "source": []
  }
 ],
 "metadata": {
  "kernelspec": {
   "display_name": "Python 3 (ipykernel)",
   "language": "python",
   "name": "python3"
  },
  "language_info": {
   "codemirror_mode": {
    "name": "ipython",
    "version": 3
   },
   "file_extension": ".py",
   "mimetype": "text/x-python",
   "name": "python",
   "nbconvert_exporter": "python",
   "pygments_lexer": "ipython3",
   "version": "3.9.18"
  }
 },
 "nbformat": 4,
 "nbformat_minor": 5
}
