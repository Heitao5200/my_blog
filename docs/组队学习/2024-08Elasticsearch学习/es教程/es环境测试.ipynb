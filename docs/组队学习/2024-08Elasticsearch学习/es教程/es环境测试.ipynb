{
 "cells": [
  {
   "cell_type": "markdown",
   "id": "06a064b1-3612-4ef0-b130-e2ce094428e1",
   "metadata": {},
   "source": [
    "https://www.elastic.co/guide/en/elasticsearch/reference/current/getting-started.html\n",
    "\n",
    "字段类型：https://www.elastic.co/guide/en/elasticsearch/reference/current/mapping-types.html"
   ]
  },
  {
   "cell_type": "raw",
   "id": "6382c6d4-3700-4b5f-bb2c-4c33736cdeb9",
   "metadata": {},
   "source": [
    "curl localhost:9200\n",
    "\n",
    "curl -X GET \"localhost:9200/_migration/system_features?pretty\"\n",
    "\n",
    "curl -X POST \"localhost:9200/_analyze\" -H 'Content-Type: application/json' -d'\n",
    "{\n",
    "  \"analyzer\":\"ik_max_word\",\n",
    "  \"text\":\"中华人民共和国国歌\"\n",
    "}'"
   ]
  },
  {
   "cell_type": "markdown",
   "id": "10ad6385-1fcb-4bd9-95d1-ee9a529fd7ef",
   "metadata": {},
   "source": [
    "# Quickstart"
   ]
  },
  {
   "cell_type": "code",
   "execution_count": 1,
   "id": "8005beb4-5e6d-4d1d-ba3b-9e6092bf9e8f",
   "metadata": {},
   "outputs": [
    {
     "name": "stdout",
     "output_type": "stream",
     "text": [
      "updated\n",
      "{'author': 'kimchy', 'text': 'Elasticsearch: cool. bonsai cool.', 'timestamp': '2024-03-14T01:02:35.324091'}\n",
      "Got 1 hits:\n",
      "2024-03-14T01:02:35.324091 kimchy Elasticsearch: cool. bonsai cool.\n"
     ]
    }
   ],
   "source": [
    "from datetime import datetime\n",
    "from elasticsearch import Elasticsearch\n",
    "from elasticsearch.helpers import bulk\n",
    "\n",
    "es = Elasticsearch(\"http://localhost:9200\")\n",
    "\n",
    "doc = {\n",
    "    \"author\": \"kimchy\",\n",
    "    \"text\": \"Elasticsearch: cool. bonsai cool.\",\n",
    "    \"timestamp\": datetime.now(),\n",
    "}\n",
    "resp = es.index(index=\"test-index\", id=1, document=doc)\n",
    "print(resp[\"result\"])\n",
    "\n",
    "resp = es.get(index=\"test-index\", id=1)\n",
    "print(resp[\"_source\"])\n",
    "\n",
    "es.indices.refresh(index=\"test-index\")\n",
    "\n",
    "resp = es.search(index=\"test-index\", query={\"match_all\": {}})\n",
    "print(\"Got {} hits:\".format(resp[\"hits\"][\"total\"][\"value\"]))\n",
    "for hit in resp[\"hits\"][\"hits\"]:\n",
    "    print(\"{timestamp} {author} {text}\".format(**hit[\"_source\"]))"
   ]
  },
  {
   "cell_type": "code",
   "execution_count": null,
   "id": "d09b5286-2b52-4b38-b17e-6c917612cf44",
   "metadata": {},
   "outputs": [],
   "source": []
  }
 ],
 "metadata": {
  "kernelspec": {
   "display_name": "Python 3 (ipykernel)",
   "language": "python",
   "name": "python3.10"
  },
  "language_info": {
   "codemirror_mode": {
    "name": "ipython",
    "version": 3
   },
   "file_extension": ".py",
   "mimetype": "text/x-python",
   "name": "python",
   "nbconvert_exporter": "python",
   "pygments_lexer": "ipython3",
   "version": "3.9.10"
  }
 },
 "nbformat": 4,
 "nbformat_minor": 5
}
