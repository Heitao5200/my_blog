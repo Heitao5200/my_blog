{
 "cells": [
  {
   "cell_type": "markdown",
   "metadata": {},
   "source": [
    "## 文本问答Promopt优化"
   ]
  },
  {
   "cell_type": "markdown",
   "metadata": {},
   "source": [
    "### 任务\n",
    "- 任务说明：将检索结果结合问题构造promot，完成问答\n",
    "- 任务要求：\n",
    "    - 构造prompt\n",
    "    - 调用API进行问答\n",
    "    - 打卡要求：完成RAG完整流程，并提交结果进行打分"
   ]
  },
  {
   "cell_type": "markdown",
   "metadata": {},
   "source": [
    "### 代码"
   ]
  },
  {
   "cell_type": "code",
   "execution_count": 1,
   "metadata": {},
   "outputs": [
    {
     "name": "stderr",
     "output_type": "stream",
     "text": [
      "/root/.conda/envs/llm/lib/python3.10/site-packages/tqdm/auto.py:21: TqdmWarning: IProgress not found. Please update jupyter and ipywidgets. See https://ipywidgets.readthedocs.io/en/stable/user_install.html\n",
      "  from .autonotebook import tqdm as notebook_tqdm\n"
     ]
    }
   ],
   "source": [
    "import time \n",
    "import jwt\n",
    "import requests\n",
    "import jieba\n",
    "import re\n",
    "from tqdm import tqdm\n",
    "import json\n",
    "import pdfplumber\n",
    "from langchain.schema import Document\n",
    "from sentence_transformers import SentenceTransformer\n",
    "page_content  = []"
   ]
  },
  {
   "cell_type": "code",
   "execution_count": 2,
   "metadata": {},
   "outputs": [],
   "source": [
    "\n",
    "def extract_page_text(filepath, max_len=256, overlap_len=100):\n",
    "    page_content  = []\n",
    "    pdf =pdfplumber.open(filepath)\n",
    "    page_count = 0\n",
    "    # pattern = r'^\\d{1,3}'\n",
    "    for page in tqdm(pdf.pages):\n",
    "        page_text = page.extract_text().strip()\n",
    "        raw_text = [text.strip() for text in page_text.split('\\n')]\n",
    "        new_text = '\\n'.join(raw_text)\n",
    "        new_text = re.sub(r'\\n\\d{2,3}\\s?', '\\n', new_text)\n",
    "        # new_text = re.sub(pattern, '', new_text).strip()\n",
    "        if len(new_text)>10 and '..............' not in new_text:\n",
    "            page_content.append(new_text)\n",
    "        else:\n",
    "            page_content.append('  ')\n",
    "\n",
    "    cleaned_chunks = []\n",
    "    i = 0\n",
    "    all_str = ''.join(page_content)\n",
    "    all_str = all_str.replace('\\n', '')\n",
    "    while i<len(all_str):\n",
    "        cur_s = all_str[i:i+max_len]\n",
    "        if len(cur_s)>10:\n",
    "            cleaned_chunks.append(Document(page_content=cur_s, metadata={'page':page_count+1}))\n",
    "        i+=(max_len - overlap_len)\n",
    "\n",
    "    return cleaned_chunks,page_content\n",
    "# 实际KEY，过期时间\n",
    "def generate_token(apikey: str, exp_seconds: int):\n",
    "    try:\n",
    "        id, secret = apikey.split(\".\")\n",
    "    except Exception as e:\n",
    "        raise Exception(\"invalid apikey\", e)\n",
    "\n",
    "    payload = {\n",
    "        \"api_key\": id,\n",
    "        \"exp\": int(round(time.time() * 1000)) + exp_seconds * 1000,\n",
    "        \"timestamp\": int(round(time.time() * 1000)),\n",
    "    }\n",
    "    return jwt.encode(\n",
    "        payload,\n",
    "        secret,\n",
    "        algorithm=\"HS256\",\n",
    "        headers={\"alg\": \"HS256\", \"sign_type\": \"SIGN\"},\n",
    "    )\n",
    "def ask_glm(content):\n",
    "    url = \"https://open.bigmodel.cn/api/paas/v4/chat/completions\"\n",
    "    headers = {\n",
    "      'Content-Type': 'application/json',\n",
    "      'Authorization': generate_token(\"f1a0b6c3d36d46d3eed74a6c7de3e9e4.pZ88EkbBscyHXXcJ\", 1000)\n",
    "    }\n",
    "\n",
    "    data = {\n",
    "        \"model\": \"glm-3-turbo\",\n",
    "        \"messages\": [{\"role\": \"user\", \"content\": content}]\n",
    "    }\n",
    "\n",
    "    response = requests.post(url, headers=headers, json=data)\n",
    "    return response.json()\n",
    "\n"
   ]
  },
  {
   "cell_type": "code",
   "execution_count": 3,
   "metadata": {},
   "outputs": [
    {
     "name": "stderr",
     "output_type": "stream",
     "text": [
      "100%|██████████| 354/354 [00:06<00:00, 51.54it/s]\n"
     ]
    }
   ],
   "source": [
    "questions = json.load(open(\"./data/questions.json\"))\n",
    "filepath = './data/初赛训练数据集.pdf'\n",
    "_,pdf_content = extract_page_text(filepath, max_len=256, overlap_len=100)"
   ]
  },
  {
   "cell_type": "code",
   "execution_count": 5,
   "metadata": {},
   "outputs": [
    {
     "data": {
      "text/plain": [
       "XLMRobertaForSequenceClassification(\n",
       "  (roberta): XLMRobertaModel(\n",
       "    (embeddings): XLMRobertaEmbeddings(\n",
       "      (word_embeddings): Embedding(250002, 1024, padding_idx=1)\n",
       "      (position_embeddings): Embedding(514, 1024, padding_idx=1)\n",
       "      (token_type_embeddings): Embedding(1, 1024)\n",
       "      (LayerNorm): LayerNorm((1024,), eps=1e-05, elementwise_affine=True)\n",
       "      (dropout): Dropout(p=0.1, inplace=False)\n",
       "    )\n",
       "    (encoder): XLMRobertaEncoder(\n",
       "      (layer): ModuleList(\n",
       "        (0-23): 24 x XLMRobertaLayer(\n",
       "          (attention): XLMRobertaAttention(\n",
       "            (self): XLMRobertaSelfAttention(\n",
       "              (query): Linear(in_features=1024, out_features=1024, bias=True)\n",
       "              (key): Linear(in_features=1024, out_features=1024, bias=True)\n",
       "              (value): Linear(in_features=1024, out_features=1024, bias=True)\n",
       "              (dropout): Dropout(p=0.1, inplace=False)\n",
       "            )\n",
       "            (output): XLMRobertaSelfOutput(\n",
       "              (dense): Linear(in_features=1024, out_features=1024, bias=True)\n",
       "              (LayerNorm): LayerNorm((1024,), eps=1e-05, elementwise_affine=True)\n",
       "              (dropout): Dropout(p=0.1, inplace=False)\n",
       "            )\n",
       "          )\n",
       "          (intermediate): XLMRobertaIntermediate(\n",
       "            (dense): Linear(in_features=1024, out_features=4096, bias=True)\n",
       "            (intermediate_act_fn): GELUActivation()\n",
       "          )\n",
       "          (output): XLMRobertaOutput(\n",
       "            (dense): Linear(in_features=4096, out_features=1024, bias=True)\n",
       "            (LayerNorm): LayerNorm((1024,), eps=1e-05, elementwise_affine=True)\n",
       "            (dropout): Dropout(p=0.1, inplace=False)\n",
       "          )\n",
       "        )\n",
       "      )\n",
       "    )\n",
       "  )\n",
       "  (classifier): XLMRobertaClassificationHead(\n",
       "    (dense): Linear(in_features=1024, out_features=1024, bias=True)\n",
       "    (dropout): Dropout(p=0.1, inplace=False)\n",
       "    (out_proj): Linear(in_features=1024, out_features=1, bias=True)\n",
       "  )\n",
       ")"
      ]
     },
     "execution_count": 5,
     "metadata": {},
     "output_type": "execute_result"
    }
   ],
   "source": [
    "from sklearn.preprocessing import normalize\n",
    "from rank_bm25 import BM25Okapi\n",
    "import torch\n",
    "from transformers import AutoModelForSequenceClassification, AutoTokenizer\n",
    "tokenizer = AutoTokenizer.from_pretrained('/root/code/quietnight/bge-reranker-large/')\n",
    "rerank_model = AutoModelForSequenceClassification.from_pretrained('/root/code/quietnight/bge-reranker-large/')\n",
    "rerank_model.cuda()\n"
   ]
  },
  {
   "cell_type": "code",
   "execution_count": 6,
   "metadata": {},
   "outputs": [
    {
     "name": "stderr",
     "output_type": "stream",
     "text": [
      "Building prefix dict from the default dictionary ...\n",
      "Loading model from cache /tmp/jieba.cache\n",
      "Loading model cost 0.571 seconds.\n",
      "Prefix dict has been built successfully.\n"
     ]
    }
   ],
   "source": [
    "pdf_content_words = [jieba.lcut(x ) for x in pdf_content]\n",
    "bm25 = BM25Okapi(pdf_content_words)\n"
   ]
  },
  {
   "cell_type": "code",
   "execution_count": 7,
   "metadata": {},
   "outputs": [
    {
     "name": "stdout",
     "output_type": "stream",
     "text": [
      "0 “前排座椅通风”的相关内容在第几页？\n",
      "结合给定的资料，无法回答问题。因为资料中并没有提到“前排座椅通风”的相关内容在哪几页。\n",
      "1 \"关于车辆的儿童安全座椅固定装置，在哪一页可以找到相关内容？\"\n",
      "根据给定资料，关于车辆的儿童安全座椅固定装置的相关内容可以在第二页找到。\n",
      "2 “打开前机舱盖”的相关信息在第几页？\n",
      "结合给定的资料，无法回答问题。因为资料中并没有提及“打开前机舱盖”的信息所在的页数。\n",
      "3 “打开前机舱盖”这个操作在哪一页？\n",
      "“打开前机舱盖”这个操作在资料的第3页。\n",
      "4 “查看行车记录仪视频”这一项内容在第几页？\n",
      "根据给定的资料，无法回答“查看行车记录仪视频”这一项内容在第几页的问题，因为资料中没有提到查看视频的具体页面信息。\n"
     ]
    }
   ],
   "source": [
    "# 首先使用BM25计算question 和内容的得分 提取TOP3\n",
    "# TOP3使用BGE重排序\n",
    "for query_idx in range(5):\n",
    "    doc_scores = bm25.get_scores(jieba.lcut(questions[query_idx][\"question\"]))\n",
    "    max_score_page_idxs = doc_scores.argsort()[-3:]\n",
    "\n",
    "    pairs = []\n",
    "    for idx in max_score_page_idxs:\n",
    "        pairs.append([questions[query_idx][\"question\"], pdf_content[idx] ])\n",
    "\n",
    "    inputs = tokenizer(pairs, padding=True, truncation=True, return_tensors='pt', max_length=512)\n",
    "    with torch.no_grad():\n",
    "        inputs = {key: inputs[key].cuda() for key in inputs.keys()}\n",
    "        scores = rerank_model(**inputs, return_dict=True).logits.view(-1, ).float()\n",
    "    max_score_page_idx = max_score_page_idxs[scores.cpu().numpy().argmax()]\n",
    "    questions[query_idx]['reference'] = 'page_' + str(max_score_page_idx + 1)\n",
    "\n",
    "    prompt = '''你是一个汽车专家，帮我结合给定的资料，回答所给的问题。如果问题无法从资料中获得，请输出:结合给定的资料，无法回答问题。\n",
    "资料：{0}\n",
    "\n",
    "问题：{1}\n",
    "    '''.format(\n",
    "        pdf_content[max_score_page_idx] ,\n",
    "        questions[query_idx][\"question\"]\n",
    "    )\n",
    "    answer = ask_glm(prompt)['choices'][0]['message']['content']\n",
    "    questions[query_idx]['answer'] = answer\n",
    "    print(query_idx,questions[query_idx][\"question\"])\n",
    "    print(answer)\n",
    "\n",
    "    # break"
   ]
  },
  {
   "cell_type": "code",
   "execution_count": 12,
   "metadata": {},
   "outputs": [],
   "source": [
    "\n",
    "with open(f'prompt_submit2.json', 'w', encoding='utf8') as up:\n",
    "    json.dump(questions, up, ensure_ascii=False, indent=4)"
   ]
  },
  {
   "cell_type": "code",
   "execution_count": 26,
   "metadata": {},
   "outputs": [],
   "source": [
    "prompt = \"\"\"\n",
    "你是一个汽车方面的专家，请判断下面的提问回答是否与汽车使用相关。只能回答相关或者是不相关，不要回答其他内容\n",
    "问题是:\n",
    "{}\n",
    "\"\"\"\n",
    "\n",
    "\"\"\"\n",
    "你是一个汽车驾驶安全员,精通有关汽车驾驶、维修和保养的相关知识。我会给你一段汽车驾驶、维修和保养相关的文本，这是从PDF文件转换而来，里面格式可能会有些问题，需要你帮忙从中提取一些关键信息出来，\n",
    "    请返回一个yaml脚本的字典命名为key_word，key为关键信息，value为提取到的信息，如果提取不到，则返回一个空value\n",
    "\n",
    "\"\"\""
   ]
  },
  {
   "cell_type": "code",
   "execution_count": null,
   "metadata": {},
   "outputs": [],
   "source": []
  },
  {
   "cell_type": "markdown",
   "metadata": {},
   "source": [
    "## 参考文献\n",
    "[hnsw](https://www.luxiangdong.com/2023/11/06/hnsw/)"
   ]
  }
 ],
 "metadata": {
  "kernelspec": {
   "display_name": "llm",
   "language": "python",
   "name": "python3"
  },
  "language_info": {
   "codemirror_mode": {
    "name": "ipython",
    "version": 3
   },
   "file_extension": ".py",
   "mimetype": "text/x-python",
   "name": "python",
   "nbconvert_exporter": "python",
   "pygments_lexer": "ipython3",
   "version": "3.10.10"
  }
 },
 "nbformat": 4,
 "nbformat_minor": 2
}
