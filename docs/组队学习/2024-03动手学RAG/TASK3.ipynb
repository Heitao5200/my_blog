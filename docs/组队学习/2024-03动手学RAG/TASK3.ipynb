{
 "cells": [
  {
   "cell_type": "markdown",
   "metadata": {},
   "source": [
    "## 读取汽车问答数据\n",
    "\n",
    "### 任务\n",
    "\n",
    "\n",
    "\n",
    "- 任务说明：理解数据集背景和读取数据集\n",
    "- 任务要求：\n",
    "  - 下载数据集文件\n",
    "  - 使用工具解析PDF内容\n",
    "- 打卡要求：使用代码解析PDF文档内容，并能解析PDF内容\n",
    "\n",
    "### 数据集下载地址：\n",
    "\n",
    "- 数据（百度云盘）链接: https://pan.baidu.com/s/19_oqY4bC_lJa_7Mc6lxU7w?pwd=v4bi 提取码: v4bi\n",
    "- 数据（谷歌云盘）链接：[https://drive.google.com/drive/folders/1rD52-7W5ypzLk9ZXOrMBYx8F8xHaAzlW?usp=sharing]("
   ]
  },
  {
   "cell_type": "code",
   "execution_count": 2,
   "metadata": {},
   "outputs": [],
   "source": [
    "import json\n",
    "import pdfplumber\n",
    "import pandas as pd\n",
    "\n"
   ]
  },
  {
   "cell_type": "markdown",
   "metadata": {},
   "source": [
    "## 加载 PDF"
   ]
  },
  {
   "cell_type": "code",
   "execution_count": 5,
   "metadata": {},
   "outputs": [],
   "source": [
    "questions = json.load(open(\"./汽车知识问答/questions.json\"))\n",
    "filepath = './汽车知识问答/初赛训练数据集.pdf'\n",
    "pdf = pdfplumber.open(filepath)\n"
   ]
  },
  {
   "cell_type": "code",
   "execution_count": 10,
   "metadata": {},
   "outputs": [
    {
     "name": "stdout",
     "output_type": "stream",
     "text": [
      "This is a PDF file with 354 pages.\n"
     ]
    }
   ],
   "source": [
    "## 查看PDF文件页数\n",
    "print('This is a PDF file with {} pages.'.format(len(pdf.pages)))"
   ]
  },
  {
   "cell_type": "code",
   "execution_count": 15,
   "metadata": {},
   "outputs": [
    {
     "data": {
      "text/plain": [
       "{'ConfigFile': 'E:\\\\ptc\\\\arbortext pe\\\\app\\\\standard.appcf',\n",
       " 'CreationDate': \"D:20230616153559+08'00'\",\n",
       " 'Creator': 'PTC Arbortext Publishing Engine',\n",
       " 'EPSprocessor': 'PStill version 1.84.42',\n",
       " 'ModDate': \"D:20230616174145+08'00'\",\n",
       " 'PTCArbortextBuild': 'R70M030-1169',\n",
       " 'PrintEngine': 'PTC Arbortext Advanced Print Publisher 11.1.4215/W Library-x64',\n",
       " 'Producer': 'PDFlib+PDI 9.0.6 (C++/Win64)',\n",
       " 'Stylesheet': '$aptpath\\\\custom\\\\doctypes\\\\om\\\\BMA_OM_PDF_zh-CN.style'}"
      ]
     },
     "execution_count": 15,
     "metadata": {},
     "output_type": "execute_result"
    }
   ],
   "source": [
    "## 查看PDF元数据\n",
    "pdf.metadata"
   ]
  },
  {
   "cell_type": "code",
   "execution_count": 17,
   "metadata": {},
   "outputs": [
    {
     "name": "stdout",
     "output_type": "stream",
     "text": [
      "[<Page:1>, <Page:2>, <Page:3>, <Page:4>, <Page:5>, <Page:6>, <Page:7>, <Page:8>, <Page:9>, <Page:10>, <Page:11>, <Page:12>, <Page:13>, <Page:14>, <Page:15>, <Page:16>, <Page:17>, <Page:18>, <Page:19>, <Page:20>, <Page:21>, <Page:22>, <Page:23>, <Page:24>, <Page:25>, <Page:26>, <Page:27>, <Page:28>, <Page:29>, <Page:30>, <Page:31>, <Page:32>, <Page:33>, <Page:34>, <Page:35>, <Page:36>, <Page:37>, <Page:38>, <Page:39>, <Page:40>, <Page:41>, <Page:42>, <Page:43>, <Page:44>, <Page:45>, <Page:46>, <Page:47>, <Page:48>, <Page:49>, <Page:50>, <Page:51>, <Page:52>, <Page:53>, <Page:54>, <Page:55>, <Page:56>, <Page:57>, <Page:58>, <Page:59>, <Page:60>, <Page:61>, <Page:62>, <Page:63>, <Page:64>, <Page:65>, <Page:66>, <Page:67>, <Page:68>, <Page:69>, <Page:70>, <Page:71>, <Page:72>, <Page:73>, <Page:74>, <Page:75>, <Page:76>, <Page:77>, <Page:78>, <Page:79>, <Page:80>, <Page:81>, <Page:82>, <Page:83>, <Page:84>, <Page:85>, <Page:86>, <Page:87>, <Page:88>, <Page:89>, <Page:90>, <Page:91>, <Page:92>, <Page:93>, <Page:94>, <Page:95>, <Page:96>, <Page:97>, <Page:98>, <Page:99>, <Page:100>, <Page:101>, <Page:102>, <Page:103>, <Page:104>, <Page:105>, <Page:106>, <Page:107>, <Page:108>, <Page:109>, <Page:110>, <Page:111>, <Page:112>, <Page:113>, <Page:114>, <Page:115>, <Page:116>, <Page:117>, <Page:118>, <Page:119>, <Page:120>, <Page:121>, <Page:122>, <Page:123>, <Page:124>, <Page:125>, <Page:126>, <Page:127>, <Page:128>, <Page:129>, <Page:130>, <Page:131>, <Page:132>, <Page:133>, <Page:134>, <Page:135>, <Page:136>, <Page:137>, <Page:138>, <Page:139>, <Page:140>, <Page:141>, <Page:142>, <Page:143>, <Page:144>, <Page:145>, <Page:146>, <Page:147>, <Page:148>, <Page:149>, <Page:150>, <Page:151>, <Page:152>, <Page:153>, <Page:154>, <Page:155>, <Page:156>, <Page:157>, <Page:158>, <Page:159>, <Page:160>, <Page:161>, <Page:162>, <Page:163>, <Page:164>, <Page:165>, <Page:166>, <Page:167>, <Page:168>, <Page:169>, <Page:170>, <Page:171>, <Page:172>, <Page:173>, <Page:174>, <Page:175>, <Page:176>, <Page:177>, <Page:178>, <Page:179>, <Page:180>, <Page:181>, <Page:182>, <Page:183>, <Page:184>, <Page:185>, <Page:186>, <Page:187>, <Page:188>, <Page:189>, <Page:190>, <Page:191>, <Page:192>, <Page:193>, <Page:194>, <Page:195>, <Page:196>, <Page:197>, <Page:198>, <Page:199>, <Page:200>, <Page:201>, <Page:202>, <Page:203>, <Page:204>, <Page:205>, <Page:206>, <Page:207>, <Page:208>, <Page:209>, <Page:210>, <Page:211>, <Page:212>, <Page:213>, <Page:214>, <Page:215>, <Page:216>, <Page:217>, <Page:218>, <Page:219>, <Page:220>, <Page:221>, <Page:222>, <Page:223>, <Page:224>, <Page:225>, <Page:226>, <Page:227>, <Page:228>, <Page:229>, <Page:230>, <Page:231>, <Page:232>, <Page:233>, <Page:234>, <Page:235>, <Page:236>, <Page:237>, <Page:238>, <Page:239>, <Page:240>, <Page:241>, <Page:242>, <Page:243>, <Page:244>, <Page:245>, <Page:246>, <Page:247>, <Page:248>, <Page:249>, <Page:250>, <Page:251>, <Page:252>, <Page:253>, <Page:254>, <Page:255>, <Page:256>, <Page:257>, <Page:258>, <Page:259>, <Page:260>, <Page:261>, <Page:262>, <Page:263>, <Page:264>, <Page:265>, <Page:266>, <Page:267>, <Page:268>, <Page:269>, <Page:270>, <Page:271>, <Page:272>, <Page:273>, <Page:274>, <Page:275>, <Page:276>, <Page:277>, <Page:278>, <Page:279>, <Page:280>, <Page:281>, <Page:282>, <Page:283>, <Page:284>, <Page:285>, <Page:286>, <Page:287>, <Page:288>, <Page:289>, <Page:290>, <Page:291>, <Page:292>, <Page:293>, <Page:294>, <Page:295>, <Page:296>, <Page:297>, <Page:298>, <Page:299>, <Page:300>, <Page:301>, <Page:302>, <Page:303>, <Page:304>, <Page:305>, <Page:306>, <Page:307>, <Page:308>, <Page:309>, <Page:310>, <Page:311>, <Page:312>, <Page:313>, <Page:314>, <Page:315>, <Page:316>, <Page:317>, <Page:318>, <Page:319>, <Page:320>, <Page:321>, <Page:322>, <Page:323>, <Page:324>, <Page:325>, <Page:326>, <Page:327>, <Page:328>, <Page:329>, <Page:330>, <Page:331>, <Page:332>, <Page:333>, <Page:334>, <Page:335>, <Page:336>, <Page:337>, <Page:338>, <Page:339>, <Page:340>, <Page:341>, <Page:342>, <Page:343>, <Page:344>, <Page:345>, <Page:346>, <Page:347>, <Page:348>, <Page:349>, <Page:350>, <Page:351>, <Page:352>, <Page:353>, <Page:354>]\n"
     ]
    }
   ],
   "source": [
    "## 查看pdf文件页\n",
    "print(pdf.pages)"
   ]
  },
  {
   "cell_type": "markdown",
   "metadata": {},
   "source": [
    "## 提取每一页的内容"
   ]
  },
  {
   "cell_type": "code",
   "execution_count": 41,
   "metadata": {},
   "outputs": [
    {
     "name": "stdout",
     "output_type": "stream",
     "text": [
      "目录\n",
      "前言 设置尾门开启角度.....................................................34\n",
      "上车和下车\n",
      "本手册相关的重要信息.................................................11\n",
      "敬告用户.................................................................11\n",
      "联系Lynk&Co领克.....................................................12 车辆锁止/解锁状态....................................................39\n",
      "事件数据记录系统......................................................12 使用遥控钥匙解锁和闭锁.............................................40\n",
      "远程监控系统............................................................12 使用Lynk&CoApp解锁和闭锁.......................................42\n",
      "原厂精装附件、选装装备和改装......................................13 无钥匙进入系统........................................................42\n",
      "无线电设备..............................................................13 车内解锁和闭锁........................................................44\n",
      "所有权变更..............................................................13 车内打开/关闭车门....................................................45\n",
      "动力电池回收............................................................14 车外打开/关闭车门....................................................45\n",
      "车辆报废.................................................................14 主驾座椅迎宾...........................................................45\n",
      "隐私告知.................................................................14 开门预警系统...........................................................46\n",
      "防盗系统................................................................48\n",
      "用车前准备 开启/关闭防盗系统....................................................48\n",
      "驾驶前的准备\n",
      "远程查询车辆状况......................................................17\n",
      "安全检查.................................................................17\n",
      "调节驾驶员座椅.........................................................51\n",
      "装载货物 调节驾驶员座椅........................................................52\n",
      "位置记忆功能...........................................................53\n",
      "位置记忆功能...........................................................54\n",
      "车辆装载.................................................................21 方向盘介绍.............................................................55\n",
      "前排储物空间............................................................22 方向盘介绍..............................................................57\n",
      "前排储物空间...........................................................24 调整方向盘.............................................................59\n",
      "第二排储物空间........................................................26 调节外后视镜...........................................................60\n",
      "后备厢储物空间.........................................................27 调节内后视镜............................................................61\n",
      "折叠后排座椅............................................................27 内后视镜自动防眩目....................................................61\n",
      "使用手套箱密码保护...................................................28 胎压监测系统............................................................61\n",
      "后备厢载物.............................................................28 前雨刮和洗涤器........................................................62\n",
      "遮物帘...................................................................29 后雨刮和洗涤器........................................................65\n",
      "车内打开/关闭尾门....................................................29\n",
      "车内打开/关闭尾门.....................................................31 仪表和灯光\n",
      "车外打开/关闭尾门....................................................32\n",
      "3\n"
     ]
    }
   ],
   "source": [
    "print(pdf.pages[2].extract_text())"
   ]
  },
  {
   "cell_type": "markdown",
   "metadata": {},
   "source": [
    "## 提取表的方法"
   ]
  },
  {
   "cell_type": "code",
   "execution_count": 19,
   "metadata": {},
   "outputs": [
    {
     "name": "stdout",
     "output_type": "stream",
     "text": [
      "None\n"
     ]
    }
   ],
   "source": [
    "\n",
    "p2 = pdf.pages[1]   # 获取第2页\n",
    " \n",
    "table = p2.extract_table()  #.extract_table 返回一个由列表组成的列表，每个内部列表代表表中的一行\n",
    "print(table) # 打印整个表\n",
    "# print(table[:2])    # 打印表前2行\n",
    "\n",
    " \n"
   ]
  },
  {
   "cell_type": "code",
   "execution_count": 23,
   "metadata": {},
   "outputs": [
    {
     "name": "stdout",
     "output_type": "stream",
     "text": [
      "<Page:88> [['1', '左前阅读灯开关：触摸该区域，打开/关闭左前阅读\\n灯，长按可调节亮度。'], ['2', '内部照明灯开关：触摸该区域，打开/关闭所有阅读\\n灯。'], ['3', '右前阅读灯开关：触摸该区域，打开/关闭右前阅读\\n灯，长按可调节亮度。']]\n",
      "<Page:103> [['装置', '触发条件'], ['前排安全气囊', '发生正面碰撞事故，且安全气\\n囊装置达到触发条件。'], ['侧面安全气囊', '发生侧面或偏置碰撞，且安全\\n气囊装置达到触发条件。'], ['头部安全气帘', '发生侧面或偏置碰撞，且安全\\n气囊装置达到触发条件。'], ['远端安全侧气囊（a）', '发生侧面碰撞事故，且安全气\\n囊装置达到触发条件。']]\n",
      "<Page:125> [['质量组', '尺寸等\\n级', '固定装\\n置', '座椅位置', None, None], [None, None, None, '前排乘\\n客', '第二排\\n外侧座\\n椅', '第二排\\n中间座\\n椅'], ['0组最大\\n10kg', 'E', 'ISO/R1', 'X', 'IL', 'X'], ['0+组最\\n大13kg', 'E', 'ISO/R1', 'X', 'IL', 'X'], [None, 'D', 'ISO/R2', None, None, None], [None, 'C', 'ISO/R3', None, None, None], ['I组9至\\n18kg', 'D', 'ISO/R2', 'X', 'IL', 'X'], [None, 'C', 'ISO/R3', None, None, None], [None, 'B', 'ISO/F2', 'X', 'IL，IUF', 'X'], [None, 'B1', 'ISO/F2X', None, None, None], [None, 'A', 'ISO/F3', None, None, None], ['II组15\\n至25kg', '', '', 'X', 'X', 'X'], ['III组22\\n至36kg', '', '', 'X', 'X', 'X']]\n",
      "<Page:225> [['检测区域', '检测范围（米）'], ['后部两侧', '0.3'], ['后部中央', '1.5'], ['前部两侧', '0.3'], ['前部中央', '0.9']]\n",
      "<Page:321> [['车辆系统', '保养项目', '常规保养'], ['发动机', '更换发动机机油和机油滤芯(a)', '15,000公里/12\\n个月'], [None, '更换空气滤芯(a)', '20,000公里'], [None, '更换火花塞', '40,000公里'], [None, '更换正时皮带', '100,000公里/\\n72个月'], [None, '正时皮带张紧器', '100,000公里/\\n72个月'], [None, '正时皮带惰轮', '100,000公里/\\n72个月'], [None, '更换冷却液', '48个月'], ['动力传动系\\n统', '自动变速器油', '80,000公里/48\\n个月'], [None, '自动变速器滤清器', '80,000公里/48\\n个月'], ['制动器', '制动液(a)', '24个月'], ['空调', '空调滤芯(a)', '12个月']]\n",
      "<Page:349> [['发动机', '最大净功率\\n（kW/rpm）', '额定功率\\n（kW/rpm）', '最大扭矩\\n（Nm/rpm）'], ['DHE15-ESZ', '108/5500', '110/5500', '225/（2500-\\n4000）']]\n",
      "<Page:350> [['车轮定位', '数据'], ['前轮外倾角', '-0.74°±0.65°'], ['后轮外倾角', '-0.73°±0.73°'], ['主销内倾角', '14.20°±0.50°'], ['主销后倾角', '4.80°±0.50°'], ['前车轮前束', '0.11°±0.05°'], ['后车轮前束', '0.10°±0.05°']]\n",
      "<Page:351> [['制动盘/制动衬块', '尺寸（mm）', None], [None, '前轮', '后轮'], ['制动盘标准厚度', '28（18\"）', '12（16\"）'], ['制动盘最小安全厚\\n度', '25（18\"）', '9（16\"）'], ['制动衬块标准厚度', '16.5', '16.5'], ['制动衬块最小安全\\n厚度（a）', '7.5（a）', '7.5（a）']]\n",
      "<Page:352> [['术语', '说明'], ['CMSR', '后方碰撞预警系统'], ['CVW', '车辆快速接近警示系统'], ['DBS', '紧急制动辅助系统'], ['DOW', '开门预警系统'], ['DPS', '驾驶员状态监测系统'], ['D-TPMS', '主动式胎压监测系统'], ['EBD', '电子制动力分配系统'], ['EBL', '紧急制动警示灯'], ['E-call', '紧急救援'], ['EDR', '事件数据记录系统'], ['ELKA', '紧急车道保持辅助系统'], ['ELOW', '应急车道占用警示'], ['EMA', '紧急转向避让辅助系统'], ['EPB', '电子驻车制动'], ['ESP', '车身稳定控制系统'], ['FCTA', '前方交叉路口预警系统'], ['FCW', '前方碰撞预警系统']]\n",
      "<Page:353> [['术语', '说明'], ['HDC', '陡坡缓降系统'], ['HSA', '坡道辅助系统'], ['HUD', '抬头显示'], ['HWA', '高速公路辅助系统'], ['LDW', '车道偏离警示系统'], ['LED', '发光二极管'], ['LIM', '最高限速辅助系统'], ['LKA', '车道保持辅助系统'], ['MAX', '最大'], ['MIN', '最小'], ['NFC', '近场通信'], ['OBD', '车载诊断'], ['PEB', '泊车紧急制动'], ['RAB', '预警制动系统'], ['RCTA', '后方横向来车预警系统'], ['RPA', '遥控泊车辅助'], ['TCS', '牵引力控制系统']]\n",
      "<Page:354> [['术语', '说明'], ['%', '百分比'], ['X:1', '比值'], ['℃', '摄氏温度'], ['Ah', '安时'], ['m', '米'], ['cm', '厘米'], ['mm', '毫米'], ['g', '克'], ['kg', '千克'], ['h', '小时'], ['min', '分钟'], ['s', '秒'], ['rpm', '每分钟转数'], ['km/h', '千米每小时'], ['L', '升'], ['mL', '毫升']]\n"
     ]
    }
   ],
   "source": [
    "for  i in pdf.pages:\n",
    "    if  i.extract_table() !=None:\n",
    "        print(i,i.extract_table())"
   ]
  },
  {
   "cell_type": "code",
   "execution_count": 36,
   "metadata": {},
   "outputs": [
    {
     "data": {
      "text/html": [
       "<div>\n",
       "<style scoped>\n",
       "    .dataframe tbody tr th:only-of-type {\n",
       "        vertical-align: middle;\n",
       "    }\n",
       "\n",
       "    .dataframe tbody tr th {\n",
       "        vertical-align: top;\n",
       "    }\n",
       "\n",
       "    .dataframe thead th {\n",
       "        text-align: right;\n",
       "    }\n",
       "</style>\n",
       "<table border=\"1\" class=\"dataframe\">\n",
       "  <thead>\n",
       "    <tr style=\"text-align: right;\">\n",
       "      <th></th>\n",
       "      <th>0</th>\n",
       "      <th>1</th>\n",
       "    </tr>\n",
       "  </thead>\n",
       "  <tbody>\n",
       "    <tr>\n",
       "      <th>0</th>\n",
       "      <td>术语</td>\n",
       "      <td>说明</td>\n",
       "    </tr>\n",
       "    <tr>\n",
       "      <th>1</th>\n",
       "      <td>%</td>\n",
       "      <td>百分比</td>\n",
       "    </tr>\n",
       "    <tr>\n",
       "      <th>2</th>\n",
       "      <td>X:1</td>\n",
       "      <td>比值</td>\n",
       "    </tr>\n",
       "    <tr>\n",
       "      <th>3</th>\n",
       "      <td>℃</td>\n",
       "      <td>摄氏温度</td>\n",
       "    </tr>\n",
       "    <tr>\n",
       "      <th>4</th>\n",
       "      <td>Ah</td>\n",
       "      <td>安时</td>\n",
       "    </tr>\n",
       "    <tr>\n",
       "      <th>5</th>\n",
       "      <td>m</td>\n",
       "      <td>米</td>\n",
       "    </tr>\n",
       "    <tr>\n",
       "      <th>6</th>\n",
       "      <td>cm</td>\n",
       "      <td>厘米</td>\n",
       "    </tr>\n",
       "    <tr>\n",
       "      <th>7</th>\n",
       "      <td>mm</td>\n",
       "      <td>毫米</td>\n",
       "    </tr>\n",
       "    <tr>\n",
       "      <th>8</th>\n",
       "      <td>g</td>\n",
       "      <td>克</td>\n",
       "    </tr>\n",
       "    <tr>\n",
       "      <th>9</th>\n",
       "      <td>kg</td>\n",
       "      <td>千克</td>\n",
       "    </tr>\n",
       "    <tr>\n",
       "      <th>10</th>\n",
       "      <td>h</td>\n",
       "      <td>小时</td>\n",
       "    </tr>\n",
       "    <tr>\n",
       "      <th>11</th>\n",
       "      <td>min</td>\n",
       "      <td>分钟</td>\n",
       "    </tr>\n",
       "    <tr>\n",
       "      <th>12</th>\n",
       "      <td>s</td>\n",
       "      <td>秒</td>\n",
       "    </tr>\n",
       "    <tr>\n",
       "      <th>13</th>\n",
       "      <td>rpm</td>\n",
       "      <td>每分钟转数</td>\n",
       "    </tr>\n",
       "    <tr>\n",
       "      <th>14</th>\n",
       "      <td>km/h</td>\n",
       "      <td>千米每小时</td>\n",
       "    </tr>\n",
       "    <tr>\n",
       "      <th>15</th>\n",
       "      <td>L</td>\n",
       "      <td>升</td>\n",
       "    </tr>\n",
       "    <tr>\n",
       "      <th>16</th>\n",
       "      <td>mL</td>\n",
       "      <td>毫升</td>\n",
       "    </tr>\n",
       "  </tbody>\n",
       "</table>\n",
       "</div>"
      ],
      "text/plain": [
       "       0      1\n",
       "0     术语     说明\n",
       "1      %    百分比\n",
       "2    X:1     比值\n",
       "3      ℃   摄氏温度\n",
       "4     Ah     安时\n",
       "5      m      米\n",
       "6     cm     厘米\n",
       "7     mm     毫米\n",
       "8      g      克\n",
       "9     kg     千克\n",
       "10     h     小时\n",
       "11   min     分钟\n",
       "12     s      秒\n",
       "13   rpm  每分钟转数\n",
       "14  km/h  千米每小时\n",
       "15     L      升\n",
       "16    mL     毫升"
      ]
     },
     "execution_count": 36,
     "metadata": {},
     "output_type": "execute_result"
    }
   ],
   "source": [
    "pd.DataFrame(pdf.pages[353].extract_table())"
   ]
  },
  {
   "cell_type": "code",
   "execution_count": 1,
   "metadata": {},
   "outputs": [],
   "source": [
    "import spacy\n",
    "import re\n",
    "from tqdm import tqdm\n",
    "import json\n",
    "import pdfplumber\n",
    "from langchain.schema import Document\n",
    "page_content  = []"
   ]
  },
  {
   "cell_type": "markdown",
   "metadata": {},
   "source": [
    "## 数据处理\n",
    "\n",
    "- 将PDF文件中的文本提取、清洗、拆分，并以一种结构化的方式返回处理后的文本片段列表。\n",
    "\n",
    "    - 首先使用pdfplumber库打开给定的PDF文件，并初始化一个空列表`page_content`以存储页面文本。\n",
    "    - 然后，通过迭代处理每个页面，将提取的文本进行清洗和处理，最终将处理后的页面文本添加到`page_content`中。\n",
    "    - 随后，它将所有页面文本连接起来，并根据指定的`max_len`和`overlap_len`将文本分割成多个较小的片段，每个片段都被包装成一个`Document`对象，并附带页面元数据。\n",
    "    - 最后，它返回包含这些处理后文本片段的列表`cleaned_chunks`。\n",
    "    - **最大长度 max_len=256**\n",
    "    - **重复长度 overlap_len=100**\n"
   ]
  },
  {
   "cell_type": "code",
   "execution_count": 2,
   "metadata": {},
   "outputs": [],
   "source": [
    "\n",
    "def extract_page_text(filepath, max_len=256, overlap_len=100):\n",
    "    page_content  = []\n",
    "    pdf =pdfplumber.open(filepath)\n",
    "    page_count = 0\n",
    "    # pattern = r'^\\d{1,3}'\n",
    "    for page in tqdm(pdf.pages):\n",
    "        page_text = page.extract_text().strip()\n",
    "        raw_text = [text.strip() for text in page_text.split('\\n')]\n",
    "        new_text = '\\n'.join(raw_text)\n",
    "        new_text = re.sub(r'\\n\\d{2,3}\\s?', '\\n', new_text)\n",
    "        # new_text = re.sub(pattern, '', new_text).strip()\n",
    "        if len(new_text)>10 and '..............' not in new_text:\n",
    "            page_content.append(new_text)\n",
    "\n",
    "\n",
    "    cleaned_chunks = []\n",
    "    i = 0\n",
    "    all_str = ''.join(page_content)\n",
    "    all_str = all_str.replace('\\n', '')\n",
    "    while i<len(all_str):\n",
    "        cur_s = all_str[i:i+max_len]\n",
    "        if len(cur_s)>10:\n",
    "            cleaned_chunks.append(Document(page_content=cur_s, metadata={'page':page_count+1}))\n",
    "        i+=(max_len - overlap_len)\n",
    "\n",
    "    return cleaned_chunks"
   ]
  },
  {
   "cell_type": "code",
   "execution_count": 4,
   "metadata": {},
   "outputs": [
    {
     "name": "stderr",
     "output_type": "stream",
     "text": [
      "100%|██████████| 354/354 [00:08<00:00, 43.19it/s]\n"
     ]
    }
   ],
   "source": [
    "questions = json.load(open(\"./汽车知识问答/questions.json\"))\n",
    "filepath = './汽车知识问答/初赛训练数据集.pdf'\n",
    "docs = extract_page_text(filepath, max_len=256, overlap_len=100)"
   ]
  },
  {
   "cell_type": "code",
   "execution_count": null,
   "metadata": {},
   "outputs": [],
   "source": []
  },
  {
   "cell_type": "code",
   "execution_count": null,
   "metadata": {},
   "outputs": [],
   "source": []
  },
  {
   "cell_type": "markdown",
   "metadata": {},
   "source": [
    "## 参考资料"
   ]
  }
 ],
 "metadata": {
  "kernelspec": {
   "display_name": "llm",
   "language": "python",
   "name": "python3"
  },
  "language_info": {
   "codemirror_mode": {
    "name": "ipython",
    "version": 3
   },
   "file_extension": ".py",
   "mimetype": "text/x-python",
   "name": "python",
   "nbconvert_exporter": "python",
   "pygments_lexer": "ipython3",
   "version": "3.1.0"
  }
 },
 "nbformat": 4,
 "nbformat_minor": 2
}
