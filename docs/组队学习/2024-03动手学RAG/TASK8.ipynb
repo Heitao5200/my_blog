{
 "cells": [
  {
   "cell_type": "markdown",
   "metadata": {},
   "source": [
    "## 问答意图识别（进阶方向）\n"
   ]
  },
  {
   "cell_type": "markdown",
   "metadata": {},
   "source": [
    "### 任务\n",
    "- 任务说明：使用文本相似度和prompt进行意图识别\n",
    "- 任务要求：\n",
    "    - 计算提问与现有文档的相似度\n",
    "    - 构造prompt完成意图识别\n",
    "- 打卡要求：完成RAG完整流程，并提交结果进行打分"
   ]
  },
  {
   "cell_type": "markdown",
   "metadata": {},
   "source": [
    "### 相关代码"
   ]
  },
  {
   "cell_type": "code",
   "execution_count": 1,
   "metadata": {},
   "outputs": [
    {
     "ename": "FileNotFoundError",
     "evalue": "[Errno 2] No such file or directory: './data/questions.json'",
     "output_type": "error",
     "traceback": [
      "\u001b[0;31m---------------------------------------------------------------------------\u001b[0m",
      "\u001b[0;31mFileNotFoundError\u001b[0m                         Traceback (most recent call last)",
      "Cell \u001b[0;32mIn[1], line 134\u001b[0m\n\u001b[1;32m    127\u001b[0m     \u001b[38;5;28;01mreturn\u001b[39;00m useless_question_idx\n\u001b[1;32m    129\u001b[0m file_path \u001b[38;5;241m=\u001b[39m \u001b[38;5;124m'\u001b[39m\u001b[38;5;124m/root/code/submit_task8_glm4.json\u001b[39m\u001b[38;5;124m'\u001b[39m\n\u001b[0;32m--> 134\u001b[0m questions \u001b[38;5;241m=\u001b[39m json\u001b[38;5;241m.\u001b[39mload(\u001b[38;5;28;43mopen\u001b[39;49m\u001b[43m(\u001b[49m\u001b[38;5;124;43m\"\u001b[39;49m\u001b[38;5;124;43m./data/questions.json\u001b[39;49m\u001b[38;5;124;43m\"\u001b[39;49m\u001b[43m)\u001b[49m)\n\u001b[1;32m    135\u001b[0m filepath \u001b[38;5;241m=\u001b[39m \u001b[38;5;124m'\u001b[39m\u001b[38;5;124m./data/初赛训练数据集.pdf\u001b[39m\u001b[38;5;124m'\u001b[39m\n\u001b[1;32m    136\u001b[0m _,pdf_content \u001b[38;5;241m=\u001b[39m extract_page_text(filepath, max_len\u001b[38;5;241m=\u001b[39m\u001b[38;5;241m256\u001b[39m, overlap_len\u001b[38;5;241m=\u001b[39m\u001b[38;5;241m100\u001b[39m)\n",
      "File \u001b[0;32m/opt/anaconda3/envs/llm/lib/python3.10/site-packages/IPython/core/interactiveshell.py:310\u001b[0m, in \u001b[0;36m_modified_open\u001b[0;34m(file, *args, **kwargs)\u001b[0m\n\u001b[1;32m    303\u001b[0m \u001b[38;5;28;01mif\u001b[39;00m file \u001b[38;5;129;01min\u001b[39;00m {\u001b[38;5;241m0\u001b[39m, \u001b[38;5;241m1\u001b[39m, \u001b[38;5;241m2\u001b[39m}:\n\u001b[1;32m    304\u001b[0m     \u001b[38;5;28;01mraise\u001b[39;00m \u001b[38;5;167;01mValueError\u001b[39;00m(\n\u001b[1;32m    305\u001b[0m         \u001b[38;5;124mf\u001b[39m\u001b[38;5;124m\"\u001b[39m\u001b[38;5;124mIPython won\u001b[39m\u001b[38;5;124m'\u001b[39m\u001b[38;5;124mt let you open fd=\u001b[39m\u001b[38;5;132;01m{\u001b[39;00mfile\u001b[38;5;132;01m}\u001b[39;00m\u001b[38;5;124m by default \u001b[39m\u001b[38;5;124m\"\u001b[39m\n\u001b[1;32m    306\u001b[0m         \u001b[38;5;124m\"\u001b[39m\u001b[38;5;124mas it is likely to crash IPython. If you know what you are doing, \u001b[39m\u001b[38;5;124m\"\u001b[39m\n\u001b[1;32m    307\u001b[0m         \u001b[38;5;124m\"\u001b[39m\u001b[38;5;124myou can use builtins\u001b[39m\u001b[38;5;124m'\u001b[39m\u001b[38;5;124m open.\u001b[39m\u001b[38;5;124m\"\u001b[39m\n\u001b[1;32m    308\u001b[0m     )\n\u001b[0;32m--> 310\u001b[0m \u001b[38;5;28;01mreturn\u001b[39;00m \u001b[43mio_open\u001b[49m\u001b[43m(\u001b[49m\u001b[43mfile\u001b[49m\u001b[43m,\u001b[49m\u001b[43m \u001b[49m\u001b[38;5;241;43m*\u001b[39;49m\u001b[43margs\u001b[49m\u001b[43m,\u001b[49m\u001b[43m \u001b[49m\u001b[38;5;241;43m*\u001b[39;49m\u001b[38;5;241;43m*\u001b[39;49m\u001b[43mkwargs\u001b[49m\u001b[43m)\u001b[49m\n",
      "\u001b[0;31mFileNotFoundError\u001b[0m: [Errno 2] No such file or directory: './data/questions.json'"
     ]
    }
   ],
   "source": [
    "import time \n",
    "import jwt\n",
    "import requests\n",
    "import jieba\n",
    "import re\n",
    "from tqdm import tqdm\n",
    "import json\n",
    "import pdfplumber\n",
    "from langchain.schema import Document\n",
    "from rank_bm25 import BM25Okapi\n",
    "import torch\n",
    "from transformers import AutoModelForSequenceClassification, AutoTokenizer\n",
    " \n",
    "\n",
    "def extract_page_text(filepath, max_len=256, overlap_len=100):\n",
    "    page_content  = []\n",
    "    pdf =pdfplumber.open(filepath)\n",
    "    page_count = 0\n",
    "    # pattern = r'^\\d{1,3}'\n",
    "    for page in tqdm(pdf.pages):\n",
    "        page_text = page.extract_text().strip()\n",
    "        raw_text = [text.strip() for text in page_text.split('\\n')]\n",
    "        new_text = '\\n'.join(raw_text)\n",
    "        new_text = re.sub(r'\\n\\d{2,3}\\s?', '\\n', new_text)\n",
    "        # new_text = re.sub(pattern, '', new_text).strip()\n",
    "        if len(new_text)>10 and '..............' not in new_text:\n",
    "            page_content.append(new_text)\n",
    "        else:\n",
    "            page_content.append('  ')\n",
    "\n",
    "    cleaned_chunks = []\n",
    "    i = 0\n",
    "    all_str = ''.join(page_content)\n",
    "    all_str = all_str.replace('\\n', '')\n",
    "    while i<len(all_str):\n",
    "        cur_s = all_str[i:i+max_len]\n",
    "        if len(cur_s)>10:\n",
    "            cleaned_chunks.append(Document(page_content=cur_s, metadata={'page':page_count+1}))\n",
    "        i+=(max_len - overlap_len)\n",
    "\n",
    "    return cleaned_chunks,page_content\n",
    "# 实际KEY，过期时间\n",
    "def generate_token(apikey: str, exp_seconds: int):\n",
    "    try:\n",
    "        id, secret = apikey.split(\".\")\n",
    "    except Exception as e:\n",
    "        raise Exception(\"invalid apikey\", e)\n",
    "\n",
    "    payload = {\n",
    "        \"api_key\": id,\n",
    "        \"exp\": int(round(time.time() * 1000)) + exp_seconds * 1000,\n",
    "        \"timestamp\": int(round(time.time() * 1000)),\n",
    "    }\n",
    "    return jwt.encode(\n",
    "        payload,\n",
    "        secret,\n",
    "        algorithm=\"HS256\",\n",
    "        headers={\"alg\": \"HS256\", \"sign_type\": \"SIGN\"},\n",
    "    )\n",
    "def ask_glm(content):\n",
    "    url = \"https://open.bigmodel.cn/api/paas/v4/chat/completions\"\n",
    "    headers = {\n",
    "      'Content-Type': 'application/json',\n",
    "      'Authorization': generate_token(\"f1a0b6c3d36d46d3eed74a6c7de3e9e4.pZ88EkbBscyHXXcJ\", 1000)\n",
    "    }\n",
    "\n",
    "    data = {\n",
    "        \"model\": \"glm-4\",\n",
    "        \"messages\": [{\"role\": \"user\", \"content\": content}]\n",
    "    }\n",
    "\n",
    "    response = requests.post(url, headers=headers, json=data)\n",
    "    return response.json()\n",
    "\n",
    "\n",
    "\n",
    "def get_answer_from_llm(question_idx,questions):\n",
    "    for query_idx in question_idx:\n",
    "        doc_scores = bm25.get_scores(jieba.lcut(questions[query_idx][\"question\"]))\n",
    "        max_score_page_idxs = doc_scores.argsort()[-3:]\n",
    "\n",
    "        pairs = []\n",
    "        for idx in max_score_page_idxs:\n",
    "            pairs.append([questions[query_idx][\"question\"], pdf_content[idx] ])\n",
    "\n",
    "        inputs = tokenizer(pairs, padding=True, truncation=True, return_tensors='pt', max_length=512)\n",
    "        with torch.no_grad():\n",
    "            inputs = {key: inputs[key].cuda() for key in inputs.keys()}\n",
    "            scores = rerank_model(**inputs, return_dict=True).logits.view(-1, ).float()\n",
    "        max_score_page_idx = max_score_page_idxs[scores.cpu().numpy().argmax()]\n",
    "        questions[query_idx]['reference'] = 'page_' + str(max_score_page_idx + 1)\n",
    "\n",
    "        prompt= '''你是一个汽车专家，帮我结合给定的资料，回答所给的问题。如果问题无法从资料中获得，请输出:结合给定的资料，无法回答问题。\n",
    "    资料：{0}\n",
    "\n",
    "    问题：{1}\n",
    "        '''.format(\n",
    "            ''.join([f'第{i+1}页内容：' + pdf_content[i].replace('\\n', '') + '\\n' for i in doc_scores.argsort()[-3:]]) ,\n",
    "            questions[query_idx][\"question\"]\n",
    "        )\n",
    "        prompt2= '''你是一个汽车专家，帮我结合你的经验回答所给的问题.请把回复内容控制在100字以内!\n",
    "    问题：{0}\n",
    "        '''.format(\n",
    "            \n",
    "            questions[query_idx][\"question\"]\n",
    "        )\n",
    "        answer = ask_glm(prompt)['choices'][0]['message']['content']\n",
    "        # if '无法回答' in answer:\n",
    "        #     answer = ask_glm(prompt2)['choices'][0]['message']['content']\n",
    "        questions[query_idx]['answer'] = answer\n",
    "        print(query_idx,questions[query_idx])\n",
    "    return questions\n",
    "\n",
    "def get_questions_from_file(file_path):\n",
    "    with open(f'/root/code/submit_task8_glm4.json', 'r', encoding='utf8') as f:\n",
    "        questions = f.read()\n",
    "    questions = eval(questions)\n",
    "    return questions\n",
    "\n",
    "def get_useless_question_idx(questions):\n",
    "    ## 收集无法回答答案的问题的索引\n",
    "    useless_question_idx = []\n",
    "    for i,question in enumerate(questions):\n",
    "        if '无法回答' in question['answer']:\n",
    "            # print(question)\n",
    "            useless_question_idx.append(i)\n",
    "    return useless_question_idx\n",
    "\n",
    "file_path = '/root/code/submit_task8_glm4.json'\n",
    "\n",
    "\n",
    "\n",
    "\n",
    "questions = json.load(open(\"./data/questions.json\"))\n",
    "filepath = './data/初赛训练数据集.pdf'\n",
    "_,pdf_content = extract_page_text(filepath, max_len=256, overlap_len=100)\n",
    "\n",
    "\n",
    "tokenizer = AutoTokenizer.from_pretrained('/root/code/quietnight/bge-reranker-large/')\n",
    "rerank_model = AutoModelForSequenceClassification.from_pretrained('/root/code/quietnight/bge-reranker-large/')\n",
    "rerank_model.cuda()\n",
    "\n",
    "\n",
    "pdf_content_words = [jieba.lcut(x ) for x in pdf_content]\n",
    "bm25 = BM25Okapi(pdf_content_words)\n",
    "\n",
    "questions = get_answer_from_llm(range(5),questions)\n",
    "\n",
    "\n",
    "with open(f'submit_task8_glm4.json', 'w', encoding='utf8') as up:\n",
    "    json.dump(questions, up, ensure_ascii=False, indent=4)"
   ]
  },
  {
   "cell_type": "markdown",
   "metadata": {},
   "source": [
    "### 意图识别"
   ]
  },
  {
   "cell_type": "code",
   "execution_count": 3,
   "metadata": {},
   "outputs": [
    {
     "name": "stdout",
     "output_type": "stream",
     "text": [
      "[{'question': '“前排座椅通风”的相关内容在第几页？', 'answer': '前排座椅通风的相关内容在第115页和第117页。', 'reference': 'page_117', '意图': '相关'}, {'question': '\"关于车辆的儿童安全座椅固定装置，在哪一页可以找到相关内容？\"', 'answer': '在第123页和第124页可以找到关于车辆的儿童安全座椅固定装置的相关内容。', 'reference': 'page_123', '意图': '相关'}, {'question': '“打开前机舱盖”的相关信息在第几页？', 'answer': '“打开前机舱盖”的相关信息在第308页和第307页。在第308页中，有详细的步骤说明如何抬起和关闭前机舱盖，并包含了相关的安全警告。在第307页中，提到了在打开前机舱盖前需要确保无障碍物，并说明了如何操作前机舱盖的开启拉手。', 'reference': 'page_307', '意图': '相关'}, {'question': '“打开前机舱盖”这个操作在哪一页？', 'answer': '打开前机舱盖的操作描述在第308页和第307页中给出。这两页内容都涉及到了如何打开前机舱盖的步骤和注意事项。', 'reference': 'page_307', '意图': '相关'}, {'question': '“查看行车记录仪视频”这一项内容在第几页？', 'answer': '第275页和第276页。在这两页的内容中，都有提到如何通过中央显示屏查看行车记录仪视频的步骤和说明。', 'reference': 'page_275', '意图': '相关。这个问题涉及到行车记录仪的使用，是汽车使用相关的查询。'}]\n"
     ]
    }
   ],
   "source": [
    "prompt = \"\"\"\n",
    "你是一个汽车方面的专家，请判断下面的提问回答是否与汽车使用相关。只能回答相关或者是不相关，不要回答其他内容\n",
    "问题是:\n",
    "{}\n",
    "\"\"\"\n",
    "for question in questions[:5]:\n",
    "    answer = ask_glm(prompt.format(question['question']))['choices'][0]['message']['content']\n",
    "    question['意图'] = answer\n",
    "print(questions[:5])"
   ]
  },
  {
   "cell_type": "markdown",
   "metadata": {},
   "source": [
    "### 页码问题识别"
   ]
  },
  {
   "cell_type": "code",
   "execution_count": 4,
   "metadata": {},
   "outputs": [
    {
     "name": "stdout",
     "output_type": "stream",
     "text": [
      "{'question': '“前排座椅通风”的相关内容在第几页？', 'answer': '前排座椅通风的相关内容在第115页和第117页。', 'reference': 'page_117', '意图': '相关', '页码': '涉及'}\n",
      "{'question': '\"关于车辆的儿童安全座椅固定装置，在哪一页可以找到相关内容？\"', 'answer': '在第123页和第124页可以找到关于车辆的儿童安全座椅固定装置的相关内容。', 'reference': 'page_123', '意图': '相关', '页码': '涉及'}\n",
      "{'question': '“打开前机舱盖”的相关信息在第几页？', 'answer': '“打开前机舱盖”的相关信息在第308页和第307页。在第308页中，有详细的步骤说明如何抬起和关闭前机舱盖，并包含了相关的安全警告。在第307页中，提到了在打开前机舱盖前需要确保无障碍物，并说明了如何操作前机舱盖的开启拉手。', 'reference': 'page_307', '意图': '相关', '页码': '涉及'}\n",
      "{'question': '“打开前机舱盖”这个操作在哪一页？', 'answer': '打开前机舱盖的操作描述在第308页和第307页中给出。这两页内容都涉及到了如何打开前机舱盖的步骤和注意事项。', 'reference': 'page_307', '意图': '相关', '页码': '涉及'}\n",
      "{'question': '“查看行车记录仪视频”这一项内容在第几页？', 'answer': '第275页和第276页。在这两页的内容中，都有提到如何通过中央显示屏查看行车记录仪视频的步骤和说明。', 'reference': 'page_275', '意图': '相关。这个问题涉及到行车记录仪的使用，是汽车使用相关的查询。', '页码': '涉及'}\n"
     ]
    }
   ],
   "source": [
    "yema_prompt= \"\"\"\n",
    "你是一个汽车方面的专家，请判断下面的提问,回答是否涉及到文档的页码信息,只能回答涉及或者是不涉及，不要回答其他内容\n",
    "问题是:\n",
    "{}\n",
    "\"\"\"\n",
    "for question in questions[:5]:\n",
    "    if '页' in question['question']:\n",
    "        answer = '涉及'\n",
    "    else:\n",
    "        answer = '不涉及'\n",
    "    # answer = ask_glm(yema_prompt.format(question['question']))['choices'][0]['message']['content']\n",
    "    question['页码'] = answer\n",
    "    print(question)\n"
   ]
  },
  {
   "cell_type": "markdown",
   "metadata": {},
   "source": [
    "### 总结\n",
    "优化点：\n",
    "- 使用了重排序，将与问题相关性最高的TOP3的内容 同时输入给模型，提升了数据的丰富性\n",
    "- 对于每一个页面的内容，添加了页码信息，因此模型回答的时候能够找到对应的页码\n",
    "\n",
    "结果：\n",
    "- GLM3 得分0.73\n",
    "- GBM4 得分0.75\n",
    "- GBM4 对模型无法回答出来的 根据本身经验回答 得分 0.72\n",
    "- GBM4 对相关性 根据本身经验回答 得分 0.71\n",
    "\n",
    "\n"
   ]
  },
  {
   "cell_type": "markdown",
   "metadata": {},
   "source": [
    "### 参考资料\n",
    "\n",
    "[向量数据库Chroma极简教程](https://mp.weixin.qq.com/s/SCCEAZqmKypSE4K-JE4euA)"
   ]
  }
 ],
 "metadata": {
  "kernelspec": {
   "display_name": "llm",
   "language": "python",
   "name": "python3"
  },
  "language_info": {
   "codemirror_mode": {
    "name": "ipython",
    "version": 3
   },
   "file_extension": ".py",
   "mimetype": "text/x-python",
   "name": "python",
   "nbconvert_exporter": "python",
   "pygments_lexer": "ipython3",
   "version": "3.10.13"
  }
 },
 "nbformat": 4,
 "nbformat_minor": 2
}
