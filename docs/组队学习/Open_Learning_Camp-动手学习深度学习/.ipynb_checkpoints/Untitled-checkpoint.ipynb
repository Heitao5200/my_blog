{
 "cells": [
  {
   "cell_type": "markdown",
   "id": "502d5990-e625-406b-8cda-d06392cefd80",
   "metadata": {},
   "source": [
    "# Task2 预备知识"
   ]
  },
  {
   "cell_type": "markdown",
   "id": "408042f6-38d0-495e-8552-9f7afbaa2b30",
   "metadata": {
    "tags": []
   },
   "source": [
    "# 数据操作"
   ]
  },
  {
   "cell_type": "code",
   "execution_count": 1,
   "id": "acb00ddb-6241-423b-a4da-c97a01cdbb77",
   "metadata": {},
   "outputs": [],
   "source": [
    "import torch"
   ]
  },
  {
   "cell_type": "markdown",
   "id": "e4c7a602-34d0-418b-83e8-75f702e51ebe",
   "metadata": {},
   "source": [
    "## 创建张量"
   ]
  },
  {
   "cell_type": "code",
   "execution_count": 4,
   "id": "8294f07a-9ae0-48b2-85b1-0f419b8792fa",
   "metadata": {},
   "outputs": [
    {
     "data": {
      "text/plain": [
       "tensor([ 0,  1,  2,  3,  4,  5,  6,  7,  8,  9, 10, 11])"
      ]
     },
     "execution_count": 4,
     "metadata": {},
     "output_type": "execute_result"
    }
   ],
   "source": [
    "x = torch.arange(12)\n",
    "x"
   ]
  },
  {
   "cell_type": "markdown",
   "id": "d87caa15-52c6-4f80-b05a-a73e5c502cca",
   "metadata": {},
   "source": [
    "## 查看张量形状"
   ]
  },
  {
   "cell_type": "code",
   "execution_count": 10,
   "id": "f2dbf902-e276-41bf-98db-bc8f9bf0385a",
   "metadata": {},
   "outputs": [
    {
     "data": {
      "text/plain": [
       "(torch.Size([12]), torch.Size([12]))"
      ]
     },
     "execution_count": 10,
     "metadata": {},
     "output_type": "execute_result"
    }
   ],
   "source": [
    "x.shape,x.size()"
   ]
  },
  {
   "cell_type": "markdown",
   "id": "a6fc653c-58cd-459b-ab01-48e625bbe360",
   "metadata": {},
   "source": [
    "## 查看张量中的元素数量"
   ]
  },
  {
   "cell_type": "code",
   "execution_count": 12,
   "id": "f8f0a792-e64b-43ee-8b71-5b801247acde",
   "metadata": {},
   "outputs": [
    {
     "data": {
      "text/plain": [
       "12"
      ]
     },
     "execution_count": 12,
     "metadata": {},
     "output_type": "execute_result"
    }
   ],
   "source": [
    "x.numel()"
   ]
  },
  {
   "cell_type": "markdown",
   "id": "e60f19eb-a8e0-427a-abb5-3eaad8c4dc31",
   "metadata": {},
   "source": [
    "## 改变张量的形状"
   ]
  },
  {
   "cell_type": "code",
   "execution_count": 13,
   "id": "0db29471-4394-4e32-9348-5c8ab833bd61",
   "metadata": {},
   "outputs": [
    {
     "data": {
      "text/plain": [
       "tensor([[ 0,  1,  2,  3,  4,  5],\n",
       "        [ 6,  7,  8,  9, 10, 11]])"
      ]
     },
     "execution_count": 13,
     "metadata": {},
     "output_type": "execute_result"
    }
   ],
   "source": [
    "x.reshape(2,6)"
   ]
  },
  {
   "cell_type": "markdown",
   "id": "283d5460-71bc-4668-9bae-275cff18c10a",
   "metadata": {},
   "source": [
    "## 全0/1张量"
   ]
  },
  {
   "cell_type": "code",
   "execution_count": 14,
   "id": "cbb7495e-058f-49cd-be4c-ce76d1039f41",
   "metadata": {},
   "outputs": [
    {
     "data": {
      "text/plain": [
       "(tensor([[[0., 0., 0., 0.],\n",
       "          [0., 0., 0., 0.],\n",
       "          [0., 0., 0., 0.]],\n",
       " \n",
       "         [[0., 0., 0., 0.],\n",
       "          [0., 0., 0., 0.],\n",
       "          [0., 0., 0., 0.]]]),\n",
       " tensor([[[1., 1., 1., 1.],\n",
       "          [1., 1., 1., 1.],\n",
       "          [1., 1., 1., 1.]],\n",
       " \n",
       "         [[1., 1., 1., 1.],\n",
       "          [1., 1., 1., 1.],\n",
       "          [1., 1., 1., 1.]]]))"
      ]
     },
     "execution_count": 14,
     "metadata": {},
     "output_type": "execute_result"
    }
   ],
   "source": [
    "torch.zeros(2,3,4),torch.ones(2,3,4)"
   ]
  },
  {
   "cell_type": "markdown",
   "id": "f4c0ce5b-bdf9-4993-9761-6904a7af85b9",
   "metadata": {},
   "source": [
    "## 随机张量"
   ]
  },
  {
   "cell_type": "code",
   "execution_count": 15,
   "id": "47fc3aad-19f8-474f-be52-2aec73ea51d8",
   "metadata": {},
   "outputs": [
    {
     "data": {
      "text/plain": [
       "tensor([[[-0.7658, -0.0996, -1.1484, -0.2082],\n",
       "         [-0.7818, -2.3094, -0.9021,  1.6996],\n",
       "         [ 0.0355,  0.4826, -0.3764, -1.4058]],\n",
       "\n",
       "        [[ 0.3212, -1.7898,  0.7723, -0.2048],\n",
       "         [ 0.4453,  1.0564,  0.5306, -0.1042],\n",
       "         [ 0.1134,  0.0665,  1.5182,  0.2651]]])"
      ]
     },
     "execution_count": 15,
     "metadata": {},
     "output_type": "execute_result"
    }
   ],
   "source": [
    "torch.randn(2,3,4)"
   ]
  },
  {
   "cell_type": "markdown",
   "id": "a02d6c2a-d74f-4745-a278-5855f2f93f1d",
   "metadata": {},
   "source": [
    "## 运算符"
   ]
  },
  {
   "cell_type": "markdown",
   "id": "c05cdf5c-f40c-449c-a885-a4078021935d",
   "metadata": {},
   "source": [
    "## 标准算术运算符"
   ]
  },
  {
   "cell_type": "code",
   "execution_count": 16,
   "id": "57bf50c9-7a18-4a54-9b73-7b94aaa15516",
   "metadata": {},
   "outputs": [
    {
     "data": {
      "text/plain": [
       "(tensor([ 3.,  4.,  6., 10.]),\n",
       " tensor([-1.,  0.,  2.,  6.]),\n",
       " tensor([ 2.,  4.,  8., 16.]),\n",
       " tensor([0.5000, 1.0000, 2.0000, 4.0000]),\n",
       " tensor([ 1.,  4., 16., 64.]))"
      ]
     },
     "execution_count": 16,
     "metadata": {},
     "output_type": "execute_result"
    }
   ],
   "source": [
    "x = torch.tensor([1.0, 2, 4, 8])\n",
    "y = torch.tensor([2, 2, 2, 2])\n",
    "x + y, x - y, x * y, x / y, x ** y  # **运算符是求幂运算"
   ]
  },
  {
   "cell_type": "markdown",
   "id": "6be64f1d-7fef-48b4-83ce-f109ed17553c",
   "metadata": {},
   "source": [
    "## 求幂"
   ]
  },
  {
   "cell_type": "code",
   "execution_count": 19,
   "id": "1e741827-1124-44f4-b176-4231e9445d46",
   "metadata": {},
   "outputs": [
    {
     "data": {
      "text/plain": [
       "(tensor([1., 2., 4., 8.]),\n",
       " tensor([2.7183e+00, 7.3891e+00, 5.4598e+01, 2.9810e+03]))"
      ]
     },
     "execution_count": 19,
     "metadata": {},
     "output_type": "execute_result"
    }
   ],
   "source": [
    "x,torch.exp(x)"
   ]
  },
  {
   "cell_type": "markdown",
   "id": "96797fbb-6090-4844-b07f-d738034af866",
   "metadata": {},
   "source": [
    "## 张量连接"
   ]
  },
  {
   "cell_type": "code",
   "execution_count": 21,
   "id": "04d05735-0996-4d8a-98bf-0b91c22fae57",
   "metadata": {},
   "outputs": [
    {
     "data": {
      "text/plain": [
       "(tensor([[ 0.,  1.,  2.,  3.],\n",
       "         [ 4.,  5.,  6.,  7.],\n",
       "         [ 8.,  9., 10., 11.]]),\n",
       " tensor([[2., 1., 4., 3.],\n",
       "         [1., 2., 3., 4.],\n",
       "         [4., 3., 2., 1.]]),\n",
       " tensor([[ 0.,  1.,  2.,  3.],\n",
       "         [ 4.,  5.,  6.,  7.],\n",
       "         [ 8.,  9., 10., 11.],\n",
       "         [ 2.,  1.,  4.,  3.],\n",
       "         [ 1.,  2.,  3.,  4.],\n",
       "         [ 4.,  3.,  2.,  1.]]),\n",
       " tensor([[ 0.,  1.,  2.,  3.,  2.,  1.,  4.,  3.],\n",
       "         [ 4.,  5.,  6.,  7.,  1.,  2.,  3.,  4.],\n",
       "         [ 8.,  9., 10., 11.,  4.,  3.,  2.,  1.]]))"
      ]
     },
     "execution_count": 21,
     "metadata": {},
     "output_type": "execute_result"
    }
   ],
   "source": [
    "X = torch.arange(12,dtype = torch.float32).reshape((3,4))\n",
    "Y = torch.tensor([[2.0, 1, 4, 3], [1, 2, 3, 4], [4, 3, 2, 1]])\n",
    "X,Y,torch.cat((X, Y), dim=0), torch.cat((X, Y), dim=1)"
   ]
  },
  {
   "cell_type": "markdown",
   "id": "97f5e1aa-a3cc-4b53-89cb-cbc53442a1dc",
   "metadata": {},
   "source": [
    "## 逻辑运算符"
   ]
  },
  {
   "cell_type": "code",
   "execution_count": 22,
   "id": "74e01470-bb58-467f-ab68-e76feb926939",
   "metadata": {},
   "outputs": [
    {
     "data": {
      "text/plain": [
       "tensor([[False,  True, False,  True],\n",
       "        [False, False, False, False],\n",
       "        [False, False, False, False]])"
      ]
     },
     "execution_count": 22,
     "metadata": {},
     "output_type": "execute_result"
    }
   ],
   "source": [
    "X==Y"
   ]
  },
  {
   "cell_type": "markdown",
   "id": "ae981e58-9a54-4bb5-aafd-a590d76d7823",
   "metadata": {},
   "source": [
    "## 张量中所有的元素求和"
   ]
  },
  {
   "cell_type": "code",
   "execution_count": 24,
   "id": "00d99318-8524-419e-bcd9-fc79613e2445",
   "metadata": {},
   "outputs": [
    {
     "data": {
      "text/plain": [
       "(tensor(66.), tensor(30.))"
      ]
     },
     "execution_count": 24,
     "metadata": {},
     "output_type": "execute_result"
    }
   ],
   "source": [
    "X.sum(),Y.sum()"
   ]
  },
  {
   "cell_type": "markdown",
   "id": "ee856bc5-755c-4f46-b92e-0c2d61e7d456",
   "metadata": {},
   "source": [
    "## 广播"
   ]
  },
  {
   "cell_type": "code",
   "execution_count": 25,
   "id": "3b302751-260f-4b7c-ac01-9e4038a94933",
   "metadata": {},
   "outputs": [
    {
     "data": {
      "text/plain": [
       "(tensor([[0],\n",
       "         [1],\n",
       "         [2]]),\n",
       " tensor([[0, 1]]))"
      ]
     },
     "execution_count": 25,
     "metadata": {},
     "output_type": "execute_result"
    }
   ],
   "source": [
    "a = torch.arange(3).reshape((3, 1))\n",
    "b = torch.arange(2).reshape((1, 2))\n",
    "a, b"
   ]
  },
  {
   "cell_type": "code",
   "execution_count": 28,
   "id": "767a4ee6-b1aa-453c-8197-4f4f6a1cc984",
   "metadata": {},
   "outputs": [
    {
     "data": {
      "text/plain": [
       "tensor([[0, 1],\n",
       "        [1, 2],\n",
       "        [2, 3]])"
      ]
     },
     "execution_count": 28,
     "metadata": {},
     "output_type": "execute_result"
    }
   ],
   "source": [
    "a+b #沿着数组中长度为1的轴进行广播"
   ]
  },
  {
   "cell_type": "markdown",
   "id": "cf84f93d-7733-428f-ba2f-439058f90782",
   "metadata": {},
   "source": [
    "## 索引和切片"
   ]
  },
  {
   "cell_type": "code",
   "execution_count": 31,
   "id": "d4fc3146-6a45-4126-9223-6114b28ee745",
   "metadata": {},
   "outputs": [
    {
     "data": {
      "text/plain": [
       "(tensor([[ 0.,  1.,  2.,  3.],\n",
       "         [ 4.,  5.,  6.,  7.],\n",
       "         [ 8.,  9., 10., 11.]]),\n",
       " tensor([ 8.,  9., 10., 11.]),\n",
       " tensor(7.),\n",
       " tensor(6.),\n",
       " tensor([[0., 1., 2., 3.],\n",
       "         [4., 5., 6., 7.]]))"
      ]
     },
     "execution_count": 31,
     "metadata": {},
     "output_type": "execute_result"
    }
   ],
   "source": [
    "X,X[-1],X[1,3],X[1,2],X[0:2,:]"
   ]
  },
  {
   "cell_type": "markdown",
   "id": "ee823f3b-9281-4f66-838b-ab77d19c88ed",
   "metadata": {},
   "source": [
    "## 节省内存"
   ]
  },
  {
   "cell_type": "code",
   "execution_count": 33,
   "id": "c30371ae-7abd-48d2-a800-ea17f8962692",
   "metadata": {},
   "outputs": [
    {
     "data": {
      "text/plain": [
       "False"
      ]
     },
     "execution_count": 33,
     "metadata": {},
     "output_type": "execute_result"
    }
   ],
   "source": [
    "# 运行Y = Y + X后，我们会发现id(Y)指向另一个位置\n",
    "before = id(Y)\n",
    "Y = Y + X\n",
    "id(Y) == before"
   ]
  },
  {
   "cell_type": "code",
   "execution_count": 34,
   "id": "e6a7ef36-6ea4-48dd-a2f1-fbaabd37d792",
   "metadata": {},
   "outputs": [
    {
     "name": "stdout",
     "output_type": "stream",
     "text": [
      "id(Z): 140430286253488\n",
      "id(Z): 140430286253488\n"
     ]
    }
   ],
   "source": [
    "# 执行原地操作非常简单。 我们可以使用切片表示法将操作的结果分配给先前分配的数组\n",
    "Z = torch.zeros_like(Y)\n",
    "print('id(Z):', id(Z))\n",
    "Z[:] = X + Y\n",
    "print('id(Z):', id(Z))"
   ]
  },
  {
   "cell_type": "code",
   "execution_count": 35,
   "id": "fd07ccdf-a935-4389-823a-8c41681a6b87",
   "metadata": {},
   "outputs": [
    {
     "data": {
      "text/plain": [
       "True"
      ]
     },
     "execution_count": 35,
     "metadata": {},
     "output_type": "execute_result"
    }
   ],
   "source": [
    "# 如果在后续计算中没有重复使用X， 我们也可以使用X[:] = X + Y或X += Y来减少操作的内存开销。\n",
    "before = id(X)\n",
    "X += Y\n",
    "id(X) == before"
   ]
  },
  {
   "cell_type": "markdown",
   "id": "e40d5303-111c-40ea-b2d4-ac8652cf9bda",
   "metadata": {},
   "source": [
    "## 转换为其他Python对象"
   ]
  },
  {
   "cell_type": "code",
   "execution_count": 39,
   "id": "31116526-134e-4dd9-bd37-9cc120f7a4c6",
   "metadata": {},
   "outputs": [],
   "source": [
    "import numpy as np"
   ]
  },
  {
   "cell_type": "code",
   "execution_count": 40,
   "id": "76aa5db8-4729-4372-8b94-8d57f33be7dc",
   "metadata": {},
   "outputs": [
    {
     "data": {
      "text/plain": [
       "(numpy.ndarray, numpy.ndarray)"
      ]
     },
     "execution_count": 40,
     "metadata": {},
     "output_type": "execute_result"
    }
   ],
   "source": [
    "A = X.numpy()\n",
    "B = np.array(A)\n",
    "type(A), type(B)"
   ]
  },
  {
   "cell_type": "code",
   "execution_count": 41,
   "id": "8f2239ee-86f4-4c59-b943-22c0200761dc",
   "metadata": {},
   "outputs": [
    {
     "name": "stdout",
     "output_type": "stream",
     "text": [
      "tensor([[ 2.,  4., 10., 12.],\n",
      "        [13., 17., 21., 25.],\n",
      "        [28., 30., 32., 34.]])\n"
     ]
    }
   ],
   "source": [
    "B = torch.from_numpy(A) #将numpy 转换化为 tensor\n",
    "print(B)"
   ]
  },
  {
   "cell_type": "code",
   "execution_count": 42,
   "id": "427c3acc-9a61-4e9b-b91b-1ba740a5b435",
   "metadata": {},
   "outputs": [
    {
     "name": "stdout",
     "output_type": "stream",
     "text": [
      "[[ 2.  4. 10. 12.]\n",
      " [13. 17. 21. 25.]\n",
      " [28. 30. 32. 34.]] \n",
      "\n",
      "tensor([[ 2.,  4., 10., 12.],\n",
      "        [13., 17., 21., 25.],\n",
      "        [28., 30., 32., 34.]])\n"
     ]
    }
   ],
   "source": [
    "print(A, '\\n')\n",
    "B = torch.from_numpy(A) #将numpy 转换化为 tensor\n",
    "print(B)\n",
    "C = B.numpy()#tensor 转换化为 numpy 但是对该numpy进行修改会改变其他的的值\n",
    "# 对C该表 A,B 都会相应的改变"
   ]
  },
  {
   "cell_type": "markdown",
   "id": "25f75382-08e8-4d10-b278-48fec6a2d99a",
   "metadata": {},
   "source": [
    "## 将大小为1的张量转换为Python标量"
   ]
  },
  {
   "cell_type": "code",
   "execution_count": 43,
   "id": "2a8b1cc5-1d65-4994-a3a5-7c659beab3cc",
   "metadata": {},
   "outputs": [
    {
     "data": {
      "text/plain": [
       "(tensor([3.5000]), 3.5, 3.5, 3)"
      ]
     },
     "execution_count": 43,
     "metadata": {},
     "output_type": "execute_result"
    }
   ],
   "source": [
    "a = torch.tensor([3.5])\n",
    "a, a.item(), float(a), int(a)"
   ]
  },
  {
   "cell_type": "markdown",
   "id": "714bfaee-88bd-4abb-b5b8-b2ffd030a929",
   "metadata": {},
   "source": [
    "## 练习"
   ]
  },
  {
   "cell_type": "markdown",
   "id": "95eb0d6a-ad97-4708-b561-9b0d309615aa",
   "metadata": {},
   "source": [
    "\n",
    "1. 运行本节中的代码。将本节中的条件语句X == Y更改为X < Y或X > Y，然后看看你可以得到什么样的张量。\n",
    "\n",
    "2. 用其他形状（例如三维张量）替换广播机制中按元素操作的两个张量。结果是否与预期相同？"
   ]
  },
  {
   "cell_type": "code",
   "execution_count": 45,
   "id": "0463a93b-d7c8-4f9f-bb93-2a58ad903e12",
   "metadata": {},
   "outputs": [],
   "source": [
    "x = torch.ones(12)\n",
    "y = x.reshape(3, 4)"
   ]
  },
  {
   "cell_type": "markdown",
   "id": "d93f6674-60e7-494c-ba9c-2f88b0fcf2fe",
   "metadata": {},
   "source": [
    "## 问题"
   ]
  },
  {
   "cell_type": "code",
   "execution_count": null,
   "id": "26ccdb41-13ed-44df-9731-556056bd3829",
   "metadata": {},
   "outputs": [],
   "source": [
    "1. 什么时候用reshape()，什么时候用reshape(())？\n",
    "2. X.asnumpy()失败？"
   ]
  },
  {
   "cell_type": "markdown",
   "id": "9095e42f-5284-4176-93e6-3cec8cb8b61b",
   "metadata": {},
   "source": [
    "# 数据预处理"
   ]
  },
  {
   "cell_type": "markdown",
   "id": "4701fac2-fdf0-41b5-b9ac-624086b3b3f4",
   "metadata": {},
   "source": [
    "## 读取数据集"
   ]
  },
  {
   "cell_type": "code",
   "execution_count": 53,
   "id": "08d1efd0-5a9c-4892-81a7-1458ceb012dd",
   "metadata": {},
   "outputs": [],
   "source": [
    "import os\n",
    "import pandas as pd\n",
    "os.makedirs(os.path.join('..', 'data'), exist_ok=True)\n",
    "data_file = os.path.join('..', 'data', 'house_tiny.csv')\n",
    "with open(data_file, 'w') as f:\n",
    "    f.write('NumRooms,Alley,Price\\n')  # 列名\n",
    "    f.write('NA,Pave,127500\\n')  # 每行表示一个数据样本\n",
    "    f.write('2,NA,106000\\n')\n",
    "    f.write('4,NA,178100\\n')\n",
    "    f.write('NA,NA,140000\\n')"
   ]
  },
  {
   "cell_type": "code",
   "execution_count": 54,
   "id": "58578a95-5733-4919-b05b-11d033c97c0f",
   "metadata": {},
   "outputs": [
    {
     "name": "stdout",
     "output_type": "stream",
     "text": [
      "   NumRooms Alley   Price\n",
      "0       NaN  Pave  127500\n",
      "1       2.0   NaN  106000\n",
      "2       4.0   NaN  178100\n",
      "3       NaN   NaN  140000\n"
     ]
    }
   ],
   "source": [
    "data = pd.read_csv(data_file)\n",
    "print(data)"
   ]
  },
  {
   "cell_type": "markdown",
   "id": "56c9a0b0-4aad-40cf-aaf4-9f678b5a6060",
   "metadata": {},
   "source": [
    "## 处理缺失值"
   ]
  },
  {
   "cell_type": "code",
   "execution_count": 57,
   "id": "b8bd0354-862e-4920-9215-160864888b9b",
   "metadata": {},
   "outputs": [
    {
     "name": "stdout",
     "output_type": "stream",
     "text": [
      "   NumRooms Alley\n",
      "0       NaN  Pave\n",
      "1       2.0   NaN\n",
      "2       4.0   NaN\n",
      "3       NaN   NaN 0    127500\n",
      "1    106000\n",
      "2    178100\n",
      "3    140000\n",
      "Name: Price, dtype: int64\n"
     ]
    }
   ],
   "source": [
    "inputs, outputs = data.iloc[:, 0:2], data.iloc[:, 2]\n",
    "print(inputs,outputs)"
   ]
  },
  {
   "cell_type": "code",
   "execution_count": 58,
   "id": "9e99b9af-9b36-44b0-9f62-435d56a2e9d7",
   "metadata": {},
   "outputs": [
    {
     "name": "stdout",
     "output_type": "stream",
     "text": [
      "   NumRooms Alley\n",
      "0       3.0  Pave\n",
      "1       2.0   NaN\n",
      "2       4.0   NaN\n",
      "3       3.0   NaN\n"
     ]
    },
    {
     "name": "stderr",
     "output_type": "stream",
     "text": [
      "/var/folders/5b/dn__zk295kn6p0g2sr593nyr0000gn/T/ipykernel_6092/2420151946.py:1: FutureWarning: Dropping of nuisance columns in DataFrame reductions (with 'numeric_only=None') is deprecated; in a future version this will raise TypeError.  Select only valid columns before calling the reduction.\n",
      "  inputs = inputs.fillna(inputs.mean())\n"
     ]
    }
   ],
   "source": [
    "inputs = inputs.fillna(inputs.mean())\n",
    "print(inputs)"
   ]
  },
  {
   "cell_type": "markdown",
   "id": "ed8f0a1a-8ada-49e1-97c0-685879cae76d",
   "metadata": {},
   "source": [
    "## onehot"
   ]
  },
  {
   "cell_type": "code",
   "execution_count": 59,
   "id": "24b0670d-5b41-44b3-8450-943d19165ebc",
   "metadata": {},
   "outputs": [
    {
     "name": "stdout",
     "output_type": "stream",
     "text": [
      "   NumRooms  Alley_Pave  Alley_nan\n",
      "0       3.0           1          0\n",
      "1       2.0           0          1\n",
      "2       4.0           0          1\n",
      "3       3.0           0          1\n"
     ]
    }
   ],
   "source": [
    "inputs = pd.get_dummies(inputs, dummy_na=True)\n",
    "print(inputs)"
   ]
  },
  {
   "cell_type": "code",
   "execution_count": 60,
   "id": "5b5a6b76-20b4-4642-85fd-e9f2414b9806",
   "metadata": {},
   "outputs": [],
   "source": [
    "## 转换为张量格式"
   ]
  },
  {
   "cell_type": "code",
   "execution_count": 61,
   "id": "c837a38b-f7de-4c41-aef8-a7984d3a1c14",
   "metadata": {},
   "outputs": [
    {
     "data": {
      "text/plain": [
       "(tensor([[3., 1., 0.],\n",
       "         [2., 0., 1.],\n",
       "         [4., 0., 1.],\n",
       "         [3., 0., 1.]], dtype=torch.float64),\n",
       " tensor([127500, 106000, 178100, 140000]))"
      ]
     },
     "execution_count": 61,
     "metadata": {},
     "output_type": "execute_result"
    }
   ],
   "source": [
    "X, y = torch.tensor(inputs.values), torch.tensor(outputs.values)\n",
    "X, y"
   ]
  },
  {
   "cell_type": "markdown",
   "id": "d41627de-514a-49d0-9d17-c26237ad250e",
   "metadata": {},
   "source": [
    "## 练习 "
   ]
  },
  {
   "cell_type": "markdown",
   "id": "deb23b86-59bd-4bf9-8556-872cf5e1f51c",
   "metadata": {},
   "source": [
    "1. 创建包含更多行和列的原始数据集。\n",
    "2. 删除缺失值最多的列。\n",
    "3. 将预处理后的数据集转换为张量格式。"
   ]
  },
  {
   "cell_type": "code",
   "execution_count": 64,
   "id": "372579e2-7f60-4eb7-ac0f-fd0c84ddb0ad",
   "metadata": {},
   "outputs": [
    {
     "data": {
      "text/html": [
       "<div>\n",
       "<style scoped>\n",
       "    .dataframe tbody tr th:only-of-type {\n",
       "        vertical-align: middle;\n",
       "    }\n",
       "\n",
       "    .dataframe tbody tr th {\n",
       "        vertical-align: top;\n",
       "    }\n",
       "\n",
       "    .dataframe thead th {\n",
       "        text-align: right;\n",
       "    }\n",
       "</style>\n",
       "<table border=\"1\" class=\"dataframe\">\n",
       "  <thead>\n",
       "    <tr style=\"text-align: right;\">\n",
       "      <th></th>\n",
       "      <th>NumRooms</th>\n",
       "      <th>Alley</th>\n",
       "      <th>Price</th>\n",
       "    </tr>\n",
       "  </thead>\n",
       "  <tbody>\n",
       "    <tr>\n",
       "      <th>0</th>\n",
       "      <td>NaN</td>\n",
       "      <td>Pave</td>\n",
       "      <td>127500</td>\n",
       "    </tr>\n",
       "    <tr>\n",
       "      <th>1</th>\n",
       "      <td>2.0</td>\n",
       "      <td>NaN</td>\n",
       "      <td>106000</td>\n",
       "    </tr>\n",
       "    <tr>\n",
       "      <th>2</th>\n",
       "      <td>4.0</td>\n",
       "      <td>NaN</td>\n",
       "      <td>178100</td>\n",
       "    </tr>\n",
       "    <tr>\n",
       "      <th>3</th>\n",
       "      <td>NaN</td>\n",
       "      <td>NaN</td>\n",
       "      <td>140000</td>\n",
       "    </tr>\n",
       "  </tbody>\n",
       "</table>\n",
       "</div>"
      ],
      "text/plain": [
       "   NumRooms Alley   Price\n",
       "0       NaN  Pave  127500\n",
       "1       2.0   NaN  106000\n",
       "2       4.0   NaN  178100\n",
       "3       NaN   NaN  140000"
      ]
     },
     "execution_count": 64,
     "metadata": {},
     "output_type": "execute_result"
    }
   ],
   "source": [
    "data"
   ]
  },
  {
   "cell_type": "code",
   "execution_count": 65,
   "id": "8bb25724-691a-4b91-b88b-b77eff2b587f",
   "metadata": {},
   "outputs": [
    {
     "data": {
      "text/plain": [
       "NumRooms    2\n",
       "Alley       3\n",
       "Price       0\n",
       "dtype: int64"
      ]
     },
     "execution_count": 65,
     "metadata": {},
     "output_type": "execute_result"
    }
   ],
   "source": [
    "data.isnull().sum()"
   ]
  },
  {
   "cell_type": "code",
   "execution_count": 66,
   "id": "f49d264e-c97e-45d8-b116-25e9192e455b",
   "metadata": {},
   "outputs": [
    {
     "data": {
      "text/html": [
       "<div>\n",
       "<style scoped>\n",
       "    .dataframe tbody tr th:only-of-type {\n",
       "        vertical-align: middle;\n",
       "    }\n",
       "\n",
       "    .dataframe tbody tr th {\n",
       "        vertical-align: top;\n",
       "    }\n",
       "\n",
       "    .dataframe thead th {\n",
       "        text-align: right;\n",
       "    }\n",
       "</style>\n",
       "<table border=\"1\" class=\"dataframe\">\n",
       "  <thead>\n",
       "    <tr style=\"text-align: right;\">\n",
       "      <th></th>\n",
       "      <th>NumRooms</th>\n",
       "      <th>Price</th>\n",
       "    </tr>\n",
       "  </thead>\n",
       "  <tbody>\n",
       "    <tr>\n",
       "      <th>0</th>\n",
       "      <td>NaN</td>\n",
       "      <td>127500</td>\n",
       "    </tr>\n",
       "    <tr>\n",
       "      <th>1</th>\n",
       "      <td>2.0</td>\n",
       "      <td>106000</td>\n",
       "    </tr>\n",
       "    <tr>\n",
       "      <th>2</th>\n",
       "      <td>4.0</td>\n",
       "      <td>178100</td>\n",
       "    </tr>\n",
       "    <tr>\n",
       "      <th>3</th>\n",
       "      <td>NaN</td>\n",
       "      <td>140000</td>\n",
       "    </tr>\n",
       "  </tbody>\n",
       "</table>\n",
       "</div>"
      ],
      "text/plain": [
       "   NumRooms   Price\n",
       "0       NaN  127500\n",
       "1       2.0  106000\n",
       "2       4.0  178100\n",
       "3       NaN  140000"
      ]
     },
     "execution_count": 66,
     "metadata": {},
     "output_type": "execute_result"
    }
   ],
   "source": [
    "def drop_col():\n",
    "    n = len(data)\n",
    "    i = 0\n",
    "    for col_name in('NumRooms','Alley','Price'):\n",
    "        cnt = data[col_name].count()\n",
    "        if (n-cnt) > i :\n",
    "            i = (n-cnt)\n",
    "            j = col_name\n",
    "    data.drop(j,axis=1,inplace=True)\n",
    "\n",
    "drop_col()\n",
    "data"
   ]
  },
  {
   "cell_type": "markdown",
   "id": "8197539b-8941-439c-a83b-337a8d407a10",
   "metadata": {},
   "source": [
    "## 线性代数"
   ]
  },
  {
   "cell_type": "markdown",
   "id": "69ec9e6a-400e-4642-a5d7-e3ccad9a3789",
   "metadata": {},
   "source": [
    "## 标量"
   ]
  },
  {
   "cell_type": "code",
   "execution_count": 67,
   "id": "2a868cca-fd54-41a6-b61a-0ae5d6a6cc23",
   "metadata": {},
   "outputs": [
    {
     "data": {
      "text/plain": [
       "(tensor(5.), tensor(6.), tensor(1.5000), tensor(9.))"
      ]
     },
     "execution_count": 67,
     "metadata": {},
     "output_type": "execute_result"
    }
   ],
   "source": [
    "import torch\n",
    "# 标量由只有一个元素的张量表示\n",
    "x = torch.tensor(3.0)\n",
    "y = torch.tensor(2.0)\n",
    "\n",
    "x + y, x * y, x / y, x**y"
   ]
  },
  {
   "cell_type": "markdown",
   "id": "47ef477d-8e4b-4568-97a1-3a3969304e95",
   "metadata": {},
   "source": [
    "## 向量"
   ]
  },
  {
   "cell_type": "code",
   "execution_count": 69,
   "id": "eaea2a4b-4e3f-46b9-bd91-af186b56de56",
   "metadata": {},
   "outputs": [
    {
     "data": {
      "text/plain": [
       "tensor([0, 1, 2, 3])"
      ]
     },
     "execution_count": 69,
     "metadata": {},
     "output_type": "execute_result"
    }
   ],
   "source": [
    "# 向量可以被视为标量值组成的列表。 这些标量值被称为向量的元素（element）或分量（component）\n",
    "x = torch.arange(4)\n",
    "x"
   ]
  },
  {
   "cell_type": "markdown",
   "id": "7172bc51-f1b1-49ac-8f3d-f6180f94224a",
   "metadata": {},
   "source": [
    "## 长度、维度和形状"
   ]
  },
  {
   "cell_type": "code",
   "execution_count": 71,
   "id": "5de11e81-bc09-45df-ab36-f3329bfbff7b",
   "metadata": {},
   "outputs": [
    {
     "data": {
      "text/plain": [
       "torch.Size([4])"
      ]
     },
     "execution_count": 71,
     "metadata": {},
     "output_type": "execute_result"
    }
   ],
   "source": [
    "x.shape"
   ]
  },
  {
   "cell_type": "markdown",
   "id": "f9ea5a94-6473-4375-a338-2d8ef7dcc273",
   "metadata": {},
   "source": [
    "## 矩阵"
   ]
  },
  {
   "cell_type": "code",
   "execution_count": 72,
   "id": "26dab88d-a2c6-46da-889d-eb386a376ba3",
   "metadata": {},
   "outputs": [
    {
     "data": {
      "text/plain": [
       "tensor([[ 0,  1,  2,  3],\n",
       "        [ 4,  5,  6,  7],\n",
       "        [ 8,  9, 10, 11],\n",
       "        [12, 13, 14, 15],\n",
       "        [16, 17, 18, 19]])"
      ]
     },
     "execution_count": 72,
     "metadata": {},
     "output_type": "execute_result"
    }
   ],
   "source": [
    "A = torch.arange(20).reshape(5, 4)\n",
    "A"
   ]
  },
  {
   "cell_type": "code",
   "execution_count": 74,
   "id": "e5e76029-3889-4009-b036-01b62cb6ab4c",
   "metadata": {},
   "outputs": [
    {
     "data": {
      "text/plain": [
       "(tensor([[ 0,  1,  2,  3,  4,  5,  6,  7,  8,  9],\n",
       "         [10, 11, 12, 13, 14, 15, 16, 17, 18, 19]]),\n",
       " tensor([[ 0,  1,  2,  3,  4],\n",
       "         [ 5,  6,  7,  8,  9],\n",
       "         [10, 11, 12, 13, 14],\n",
       "         [15, 16, 17, 18, 19]]))"
      ]
     },
     "execution_count": 74,
     "metadata": {},
     "output_type": "execute_result"
    }
   ],
   "source": [
    "A.reshape(2,10),A.reshape(4,5)"
   ]
  },
  {
   "cell_type": "code",
   "execution_count": 75,
   "id": "7027d030-350a-4514-bc41-d264f39322cb",
   "metadata": {},
   "outputs": [
    {
     "data": {
      "text/plain": [
       "tensor([[ 0,  4,  8, 12, 16],\n",
       "        [ 1,  5,  9, 13, 17],\n",
       "        [ 2,  6, 10, 14, 18],\n",
       "        [ 3,  7, 11, 15, 19]])"
      ]
     },
     "execution_count": 75,
     "metadata": {},
     "output_type": "execute_result"
    }
   ],
   "source": [
    "A.T"
   ]
  },
  {
   "cell_type": "code",
   "execution_count": 76,
   "id": "6d7fd991-edff-47f9-bdf5-bb583b11df94",
   "metadata": {},
   "outputs": [
    {
     "data": {
      "text/plain": [
       "tensor([[1, 2, 3],\n",
       "        [2, 0, 4],\n",
       "        [3, 4, 5]])"
      ]
     },
     "execution_count": 76,
     "metadata": {},
     "output_type": "execute_result"
    }
   ],
   "source": [
    "## 作为方阵的一种特殊类型，对称矩阵（symmetric matrix）\n",
    "B = torch.tensor([[1, 2, 3], [2, 0, 4], [3, 4, 5]])\n",
    "B"
   ]
  },
  {
   "cell_type": "markdown",
   "id": "6dc89b9b-bc78-4a0a-afe0-bcaf0e887c7f",
   "metadata": {},
   "source": [
    "## 张量"
   ]
  },
  {
   "cell_type": "code",
   "execution_count": 78,
   "id": "6d64165d-54c9-441d-8ec8-f2947003e3d5",
   "metadata": {},
   "outputs": [
    {
     "data": {
      "text/plain": [
       "tensor([[[ 0,  1,  2,  3],\n",
       "         [ 4,  5,  6,  7],\n",
       "         [ 8,  9, 10, 11]],\n",
       "\n",
       "        [[12, 13, 14, 15],\n",
       "         [16, 17, 18, 19],\n",
       "         [20, 21, 22, 23]]])"
      ]
     },
     "execution_count": 78,
     "metadata": {},
     "output_type": "execute_result"
    }
   ],
   "source": [
    "## 就像向量是标量的推广，矩阵是向量的推广一样,向量是一阶张量，矩阵是二阶张量。 张量用特殊字体的大写字母表示\n",
    "X = torch.arange(24).reshape(2, 3, 4)\n",
    "X"
   ]
  },
  {
   "cell_type": "markdown",
   "id": "53067527-a2ab-46a2-809f-e25f84c7e0c1",
   "metadata": {},
   "source": [
    "## 张量算法的基本性质"
   ]
  },
  {
   "cell_type": "code",
   "execution_count": 79,
   "id": "89cdde49-1529-4c1c-bfce-2e80061a1dc7",
   "metadata": {},
   "outputs": [
    {
     "data": {
      "text/plain": [
       "(tensor([[ 0.,  1.,  2.,  3.],\n",
       "         [ 4.,  5.,  6.,  7.],\n",
       "         [ 8.,  9., 10., 11.],\n",
       "         [12., 13., 14., 15.],\n",
       "         [16., 17., 18., 19.]]),\n",
       " tensor([[ 0.,  2.,  4.,  6.],\n",
       "         [ 8., 10., 12., 14.],\n",
       "         [16., 18., 20., 22.],\n",
       "         [24., 26., 28., 30.],\n",
       "         [32., 34., 36., 38.]]))"
      ]
     },
     "execution_count": 79,
     "metadata": {},
     "output_type": "execute_result"
    }
   ],
   "source": [
    "A = torch.arange(20, dtype=torch.float32).reshape(5, 4)\n",
    "B = A.clone()  # 通过分配新内存，将A的一个副本分配给B\n",
    "A, A + B"
   ]
  },
  {
   "cell_type": "code",
   "execution_count": null,
   "id": "18ea9dbc-0c60-41ab-9850-9ce504c87c52",
   "metadata": {},
   "outputs": [],
   "source": []
  }
 ],
 "metadata": {
  "kernelspec": {
   "display_name": "Python 3 (ipykernel)",
   "language": "python",
   "name": "python3"
  },
  "language_info": {
   "codemirror_mode": {
    "name": "ipython",
    "version": 3
   },
   "file_extension": ".py",
   "mimetype": "text/x-python",
   "name": "python",
   "nbconvert_exporter": "python",
   "pygments_lexer": "ipython3",
   "version": "3.9.7"
  }
 },
 "nbformat": 4,
 "nbformat_minor": 5
}
